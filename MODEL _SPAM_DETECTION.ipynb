{
 "cells": [
  {
   "cell_type": "markdown",
   "metadata": {},
   "source": [
    "\n",
    "\n",
    "\n",
    "\n",
    "\n",
    "\n",
    "\n",
    "# SPAM SMS DETECTION\n",
    "\n",
    "We get lots and lots of SMS, Some are useful and some are SPAM. So using a machine learning algorithm we will classify the message as SPAM or useful."
   ]
  },
  {
   "cell_type": "markdown",
   "metadata": {},
   "source": [
    "## Importing the Libraries"
   ]
  },
  {
   "cell_type": "code",
   "execution_count": 1,
   "metadata": {},
   "outputs": [
    {
     "name": "stderr",
     "output_type": "stream",
     "text": [
      "[nltk_data] Downloading package punkt to\n",
      "[nltk_data]     C:\\Users\\hp\\AppData\\Roaming\\nltk_data...\n",
      "[nltk_data]   Package punkt is already up-to-date!\n",
      "[nltk_data] Downloading package stopwords to\n",
      "[nltk_data]     C:\\Users\\hp\\AppData\\Roaming\\nltk_data...\n",
      "[nltk_data]   Package stopwords is already up-to-date!\n",
      "[nltk_data] Downloading package wordnet to\n",
      "[nltk_data]     C:\\Users\\hp\\AppData\\Roaming\\nltk_data...\n",
      "[nltk_data]   Package wordnet is already up-to-date!\n"
     ]
    },
    {
     "data": {
      "text/plain": [
       "True"
      ]
     },
     "execution_count": 1,
     "metadata": {},
     "output_type": "execute_result"
    }
   ],
   "source": [
    "import pandas as pd\n",
    "import numpy as np\n",
    "import matplotlib.pyplot as plt\n",
    "import seaborn as sns\n",
    "import nltk\n",
    "nltk.download('punkt')\n",
    "nltk.download('stopwords')\n",
    "nltk.download('wordnet')"
   ]
  },
  {
   "cell_type": "markdown",
   "metadata": {},
   "source": [
    "## Importing the SMS dataset"
   ]
  },
  {
   "cell_type": "code",
   "execution_count": 2,
   "metadata": {},
   "outputs": [],
   "source": [
    "SMS_DATA= pd.read_csv('SMSSpamCollection', sep='\\t',names=[\"Category\", \"Message\"])"
   ]
  },
  {
   "cell_type": "markdown",
   "metadata": {},
   "source": [
    "### EXPLORING THE DATASET"
   ]
  },
  {
   "cell_type": "code",
   "execution_count": 3,
   "metadata": {},
   "outputs": [
    {
     "data": {
      "text/html": [
       "<div>\n",
       "<style scoped>\n",
       "    .dataframe tbody tr th:only-of-type {\n",
       "        vertical-align: middle;\n",
       "    }\n",
       "\n",
       "    .dataframe tbody tr th {\n",
       "        vertical-align: top;\n",
       "    }\n",
       "\n",
       "    .dataframe thead th {\n",
       "        text-align: right;\n",
       "    }\n",
       "</style>\n",
       "<table border=\"1\" class=\"dataframe\">\n",
       "  <thead>\n",
       "    <tr style=\"text-align: right;\">\n",
       "      <th></th>\n",
       "      <th>Category</th>\n",
       "      <th>Message</th>\n",
       "    </tr>\n",
       "  </thead>\n",
       "  <tbody>\n",
       "    <tr>\n",
       "      <th>0</th>\n",
       "      <td>ham</td>\n",
       "      <td>Go until jurong point, crazy.. Available only ...</td>\n",
       "    </tr>\n",
       "    <tr>\n",
       "      <th>1</th>\n",
       "      <td>ham</td>\n",
       "      <td>Ok lar... Joking wif u oni...</td>\n",
       "    </tr>\n",
       "    <tr>\n",
       "      <th>2</th>\n",
       "      <td>spam</td>\n",
       "      <td>Free entry in 2 a wkly comp to win FA Cup fina...</td>\n",
       "    </tr>\n",
       "    <tr>\n",
       "      <th>3</th>\n",
       "      <td>ham</td>\n",
       "      <td>U dun say so early hor... U c already then say...</td>\n",
       "    </tr>\n",
       "    <tr>\n",
       "      <th>4</th>\n",
       "      <td>ham</td>\n",
       "      <td>Nah I don't think he goes to usf, he lives aro...</td>\n",
       "    </tr>\n",
       "  </tbody>\n",
       "</table>\n",
       "</div>"
      ],
      "text/plain": [
       "  Category                                            Message\n",
       "0      ham  Go until jurong point, crazy.. Available only ...\n",
       "1      ham                      Ok lar... Joking wif u oni...\n",
       "2     spam  Free entry in 2 a wkly comp to win FA Cup fina...\n",
       "3      ham  U dun say so early hor... U c already then say...\n",
       "4      ham  Nah I don't think he goes to usf, he lives aro..."
      ]
     },
     "execution_count": 3,
     "metadata": {},
     "output_type": "execute_result"
    }
   ],
   "source": [
    "SMS_DATA.head()"
   ]
  },
  {
   "cell_type": "code",
   "execution_count": 4,
   "metadata": {},
   "outputs": [
    {
     "data": {
      "text/plain": [
       "(5572, 2)"
      ]
     },
     "execution_count": 4,
     "metadata": {},
     "output_type": "execute_result"
    }
   ],
   "source": [
    "SMS_DATA.shape"
   ]
  },
  {
   "cell_type": "code",
   "execution_count": 5,
   "metadata": {},
   "outputs": [],
   "source": [
    "SMS_DATA.drop_duplicates(inplace=True)"
   ]
  },
  {
   "cell_type": "code",
   "execution_count": 6,
   "metadata": {},
   "outputs": [],
   "source": [
    "SMS_DATA.reset_index(drop=True,inplace=True)"
   ]
  },
  {
   "cell_type": "code",
   "execution_count": 7,
   "metadata": {},
   "outputs": [
    {
     "data": {
      "text/plain": [
       "(5169, 2)"
      ]
     },
     "execution_count": 7,
     "metadata": {},
     "output_type": "execute_result"
    }
   ],
   "source": [
    "SMS_DATA.shape"
   ]
  },
  {
   "cell_type": "code",
   "execution_count": 8,
   "metadata": {},
   "outputs": [
    {
     "data": {
      "text/plain": [
       "ham     4516\n",
       "spam     653\n",
       "Name: Category, dtype: int64"
      ]
     },
     "execution_count": 8,
     "metadata": {},
     "output_type": "execute_result"
    }
   ],
   "source": [
    "SMS_DATA['Category'].value_counts()"
   ]
  },
  {
   "cell_type": "markdown",
   "metadata": {},
   "source": [
    "### BASIC VISUALIZATION"
   ]
  },
  {
   "cell_type": "code",
   "execution_count": 9,
   "metadata": {},
   "outputs": [
    {
     "data": {
      "image/png": "[encoded data removed]",
      "text/plain": [
       "<Figure size 576x360 with 1 Axes>"
      ]
     },
     "metadata": {
      "needs_background": "light"
     },
     "output_type": "display_data"
    }
   ],
   "source": [
    "plt.figure(figsize=(8,5))\n",
    "sns.countplot(x='Category', data=SMS_DATA)\n",
    "plt.xlabel('SMS Classification')\n",
    "plt.ylabel('Count')\n",
    "plt.show()"
   ]
  },
  {
   "cell_type": "markdown",
   "metadata": {},
   "source": [
    "### Cleaning The Data And Preprocessing"
   ]
  },
  {
   "cell_type": "markdown",
   "metadata": {},
   "source": [
    "In cleaning we generally perform these steps-:\n",
    " 1. Removing The Punctuation\n",
    " 2. Tokenization\n",
    " 3. Removing Stopwords\n",
    " 4. Lemmitization\n",
    "    "
   ]
  },
  {
   "cell_type": "code",
   "execution_count": 10,
   "metadata": {},
   "outputs": [],
   "source": [
    "pd.set_option('display.max_colwidth', 100)\n",
    "stopwords = nltk.corpus.stopwords.words('english')\n",
    "import string\n",
    "import re"
   ]
  },
  {
   "cell_type": "code",
   "execution_count": 11,
   "metadata": {},
   "outputs": [],
   "source": [
    "def clean_text(text):\n",
    "    text = \"\".join([word for word in text if word not in string.punctuation])\n",
    "    tokens = re.split('\\W+', text)\n",
    "    text = [word for word in tokens if word not in stopwords]\n",
    "    return text\n",
    "\n",
    "SMS_DATA['Cleaned_Message'] = SMS_DATA['Message'].apply(lambda x: clean_text(x.lower()))\n"
   ]
  },
  {
   "cell_type": "code",
   "execution_count": 12,
   "metadata": {},
   "outputs": [
    {
     "data": {
      "text/html": [
       "<div>\n",
       "<style scoped>\n",
       "    .dataframe tbody tr th:only-of-type {\n",
       "        vertical-align: middle;\n",
       "    }\n",
       "\n",
       "    .dataframe tbody tr th {\n",
       "        vertical-align: top;\n",
       "    }\n",
       "\n",
       "    .dataframe thead th {\n",
       "        text-align: right;\n",
       "    }\n",
       "</style>\n",
       "<table border=\"1\" class=\"dataframe\">\n",
       "  <thead>\n",
       "    <tr style=\"text-align: right;\">\n",
       "      <th></th>\n",
       "      <th>Category</th>\n",
       "      <th>Message</th>\n",
       "      <th>Cleaned_Message</th>\n",
       "    </tr>\n",
       "  </thead>\n",
       "  <tbody>\n",
       "    <tr>\n",
       "      <th>0</th>\n",
       "      <td>ham</td>\n",
       "      <td>Go until jurong point, crazy.. Available only in bugis n great world la e buffet... Cine there g...</td>\n",
       "      <td>[go, jurong, point, crazy, available, bugis, n, great, world, la, e, buffet, cine, got, amore, wat]</td>\n",
       "    </tr>\n",
       "    <tr>\n",
       "      <th>1</th>\n",
       "      <td>ham</td>\n",
       "      <td>Ok lar... Joking wif u oni...</td>\n",
       "      <td>[ok, lar, joking, wif, u, oni]</td>\n",
       "    </tr>\n",
       "    <tr>\n",
       "      <th>2</th>\n",
       "      <td>spam</td>\n",
       "      <td>Free entry in 2 a wkly comp to win FA Cup final tkts 21st May 2005. Text FA to 87121 to receive ...</td>\n",
       "      <td>[free, entry, 2, wkly, comp, win, fa, cup, final, tkts, 21st, may, 2005, text, fa, 87121, receiv...</td>\n",
       "    </tr>\n",
       "    <tr>\n",
       "      <th>3</th>\n",
       "      <td>ham</td>\n",
       "      <td>U dun say so early hor... U c already then say...</td>\n",
       "      <td>[u, dun, say, early, hor, u, c, already, say]</td>\n",
       "    </tr>\n",
       "    <tr>\n",
       "      <th>4</th>\n",
       "      <td>ham</td>\n",
       "      <td>Nah I don't think he goes to usf, he lives around here though</td>\n",
       "      <td>[nah, dont, think, goes, usf, lives, around, though]</td>\n",
       "    </tr>\n",
       "  </tbody>\n",
       "</table>\n",
       "</div>"
      ],
      "text/plain": [
       "  Category  \\\n",
       "0      ham   \n",
       "1      ham   \n",
       "2     spam   \n",
       "3      ham   \n",
       "4      ham   \n",
       "\n",
       "                                                                                               Message  \\\n",
       "0  Go until jurong point, crazy.. Available only in bugis n great world la e buffet... Cine there g...   \n",
       "1                                                                        Ok lar... Joking wif u oni...   \n",
       "2  Free entry in 2 a wkly comp to win FA Cup final tkts 21st May 2005. Text FA to 87121 to receive ...   \n",
       "3                                                    U dun say so early hor... U c already then say...   \n",
       "4                                        Nah I don't think he goes to usf, he lives around here though   \n",
       "\n",
       "                                                                                       Cleaned_Message  \n",
       "0  [go, jurong, point, crazy, available, bugis, n, great, world, la, e, buffet, cine, got, amore, wat]  \n",
       "1                                                                       [ok, lar, joking, wif, u, oni]  \n",
       "2  [free, entry, 2, wkly, comp, win, fa, cup, final, tkts, 21st, may, 2005, text, fa, 87121, receiv...  \n",
       "3                                                        [u, dun, say, early, hor, u, c, already, say]  \n",
       "4                                                 [nah, dont, think, goes, usf, lives, around, though]  "
      ]
     },
     "execution_count": 12,
     "metadata": {},
     "output_type": "execute_result"
    }
   ],
   "source": [
    "SMS_DATA.head()"
   ]
  },
  {
   "cell_type": "code",
   "execution_count": 13,
   "metadata": {},
   "outputs": [
    {
     "data": {
      "text/html": [
       "<div>\n",
       "<style scoped>\n",
       "    .dataframe tbody tr th:only-of-type {\n",
       "        vertical-align: middle;\n",
       "    }\n",
       "\n",
       "    .dataframe tbody tr th {\n",
       "        vertical-align: top;\n",
       "    }\n",
       "\n",
       "    .dataframe thead th {\n",
       "        text-align: right;\n",
       "    }\n",
       "</style>\n",
       "<table border=\"1\" class=\"dataframe\">\n",
       "  <thead>\n",
       "    <tr style=\"text-align: right;\">\n",
       "      <th></th>\n",
       "      <th>Category</th>\n",
       "      <th>Message</th>\n",
       "      <th>Cleaned_Message</th>\n",
       "      <th>Lematized_Message</th>\n",
       "    </tr>\n",
       "  </thead>\n",
       "  <tbody>\n",
       "    <tr>\n",
       "      <th>0</th>\n",
       "      <td>ham</td>\n",
       "      <td>Go until jurong point, crazy.. Available only in bugis n great world la e buffet... Cine there g...</td>\n",
       "      <td>[go, jurong, point, crazy, available, bugis, n, great, world, la, e, buffet, cine, got, amore, wat]</td>\n",
       "      <td>[go, jurong, point, crazy, available, bugis, n, great, world, la, e, buffet, cine, got, amore, wat]</td>\n",
       "    </tr>\n",
       "    <tr>\n",
       "      <th>1</th>\n",
       "      <td>ham</td>\n",
       "      <td>Ok lar... Joking wif u oni...</td>\n",
       "      <td>[ok, lar, joking, wif, u, oni]</td>\n",
       "      <td>[ok, lar, joking, wif, u, oni]</td>\n",
       "    </tr>\n",
       "    <tr>\n",
       "      <th>2</th>\n",
       "      <td>spam</td>\n",
       "      <td>Free entry in 2 a wkly comp to win FA Cup final tkts 21st May 2005. Text FA to 87121 to receive ...</td>\n",
       "      <td>[free, entry, 2, wkly, comp, win, fa, cup, final, tkts, 21st, may, 2005, text, fa, 87121, receiv...</td>\n",
       "      <td>[free, entry, 2, wkly, comp, win, fa, cup, final, tkts, 21st, may, 2005, text, fa, 87121, receiv...</td>\n",
       "    </tr>\n",
       "    <tr>\n",
       "      <th>3</th>\n",
       "      <td>ham</td>\n",
       "      <td>U dun say so early hor... U c already then say...</td>\n",
       "      <td>[u, dun, say, early, hor, u, c, already, say]</td>\n",
       "      <td>[u, dun, say, early, hor, u, c, already, say]</td>\n",
       "    </tr>\n",
       "    <tr>\n",
       "      <th>4</th>\n",
       "      <td>ham</td>\n",
       "      <td>Nah I don't think he goes to usf, he lives around here though</td>\n",
       "      <td>[nah, dont, think, goes, usf, lives, around, though]</td>\n",
       "      <td>[nah, dont, think, go, usf, life, around, though]</td>\n",
       "    </tr>\n",
       "    <tr>\n",
       "      <th>5</th>\n",
       "      <td>spam</td>\n",
       "      <td>FreeMsg Hey there darling it's been 3 week's now and no word back! I'd like some fun you up for ...</td>\n",
       "      <td>[freemsg, hey, darling, 3, weeks, word, back, id, like, fun, still, tb, ok, xxx, std, chgs, send...</td>\n",
       "      <td>[freemsg, hey, darling, 3, week, word, back, id, like, fun, still, tb, ok, xxx, std, chgs, send,...</td>\n",
       "    </tr>\n",
       "    <tr>\n",
       "      <th>6</th>\n",
       "      <td>ham</td>\n",
       "      <td>Even my brother is not like to speak with me. They treat me like aids patent.</td>\n",
       "      <td>[even, brother, like, speak, treat, like, aids, patent]</td>\n",
       "      <td>[even, brother, like, speak, treat, like, aid, patent]</td>\n",
       "    </tr>\n",
       "    <tr>\n",
       "      <th>7</th>\n",
       "      <td>ham</td>\n",
       "      <td>As per your request 'Melle Melle (Oru Minnaminunginte Nurungu Vettam)' has been set as your call...</td>\n",
       "      <td>[per, request, melle, melle, oru, minnaminunginte, nurungu, vettam, set, callertune, callers, pr...</td>\n",
       "      <td>[per, request, melle, melle, oru, minnaminunginte, nurungu, vettam, set, callertune, caller, pre...</td>\n",
       "    </tr>\n",
       "    <tr>\n",
       "      <th>8</th>\n",
       "      <td>spam</td>\n",
       "      <td>WINNER!! As a valued network customer you have been selected to receivea £900 prize reward! To c...</td>\n",
       "      <td>[winner, valued, network, customer, selected, receivea, 900, prize, reward, claim, call, 0906170...</td>\n",
       "      <td>[winner, valued, network, customer, selected, receivea, 900, prize, reward, claim, call, 0906170...</td>\n",
       "    </tr>\n",
       "    <tr>\n",
       "      <th>9</th>\n",
       "      <td>spam</td>\n",
       "      <td>Had your mobile 11 months or more? U R entitled to Update to the latest colour mobiles with came...</td>\n",
       "      <td>[mobile, 11, months, u, r, entitled, update, latest, colour, mobiles, camera, free, call, mobile...</td>\n",
       "      <td>[mobile, 11, month, u, r, entitled, update, latest, colour, mobile, camera, free, call, mobile, ...</td>\n",
       "    </tr>\n",
       "  </tbody>\n",
       "</table>\n",
       "</div>"
      ],
      "text/plain": [
       "  Category  \\\n",
       "0      ham   \n",
       "1      ham   \n",
       "2     spam   \n",
       "3      ham   \n",
       "4      ham   \n",
       "5     spam   \n",
       "6      ham   \n",
       "7      ham   \n",
       "8     spam   \n",
       "9     spam   \n",
       "\n",
       "                                                                                               Message  \\\n",
       "0  Go until jurong point, crazy.. Available only in bugis n great world la e buffet... Cine there g...   \n",
       "1                                                                        Ok lar... Joking wif u oni...   \n",
       "2  Free entry in 2 a wkly comp to win FA Cup final tkts 21st May 2005. Text FA to 87121 to receive ...   \n",
       "3                                                    U dun say so early hor... U c already then say...   \n",
       "4                                        Nah I don't think he goes to usf, he lives around here though   \n",
       "5  FreeMsg Hey there darling it's been 3 week's now and no word back! I'd like some fun you up for ...   \n",
       "6                        Even my brother is not like to speak with me. They treat me like aids patent.   \n",
       "7  As per your request 'Melle Melle (Oru Minnaminunginte Nurungu Vettam)' has been set as your call...   \n",
       "8  WINNER!! As a valued network customer you have been selected to receivea £900 prize reward! To c...   \n",
       "9  Had your mobile 11 months or more? U R entitled to Update to the latest colour mobiles with came...   \n",
       "\n",
       "                                                                                       Cleaned_Message  \\\n",
       "0  [go, jurong, point, crazy, available, bugis, n, great, world, la, e, buffet, cine, got, amore, wat]   \n",
       "1                                                                       [ok, lar, joking, wif, u, oni]   \n",
       "2  [free, entry, 2, wkly, comp, win, fa, cup, final, tkts, 21st, may, 2005, text, fa, 87121, receiv...   \n",
       "3                                                        [u, dun, say, early, hor, u, c, already, say]   \n",
       "4                                                 [nah, dont, think, goes, usf, lives, around, though]   \n",
       "5  [freemsg, hey, darling, 3, weeks, word, back, id, like, fun, still, tb, ok, xxx, std, chgs, send...   \n",
       "6                                              [even, brother, like, speak, treat, like, aids, patent]   \n",
       "7  [per, request, melle, melle, oru, minnaminunginte, nurungu, vettam, set, callertune, callers, pr...   \n",
       "8  [winner, valued, network, customer, selected, receivea, 900, prize, reward, claim, call, 0906170...   \n",
       "9  [mobile, 11, months, u, r, entitled, update, latest, colour, mobiles, camera, free, call, mobile...   \n",
       "\n",
       "                                                                                     Lematized_Message  \n",
       "0  [go, jurong, point, crazy, available, bugis, n, great, world, la, e, buffet, cine, got, amore, wat]  \n",
       "1                                                                       [ok, lar, joking, wif, u, oni]  \n",
       "2  [free, entry, 2, wkly, comp, win, fa, cup, final, tkts, 21st, may, 2005, text, fa, 87121, receiv...  \n",
       "3                                                        [u, dun, say, early, hor, u, c, already, say]  \n",
       "4                                                    [nah, dont, think, go, usf, life, around, though]  \n",
       "5  [freemsg, hey, darling, 3, week, word, back, id, like, fun, still, tb, ok, xxx, std, chgs, send,...  \n",
       "6                                               [even, brother, like, speak, treat, like, aid, patent]  \n",
       "7  [per, request, melle, melle, oru, minnaminunginte, nurungu, vettam, set, callertune, caller, pre...  \n",
       "8  [winner, valued, network, customer, selected, receivea, 900, prize, reward, claim, call, 0906170...  \n",
       "9  [mobile, 11, month, u, r, entitled, update, latest, colour, mobile, camera, free, call, mobile, ...  "
      ]
     },
     "execution_count": 13,
     "metadata": {},
     "output_type": "execute_result"
    }
   ],
   "source": [
    "from nltk.corpus import wordnet as wn\n",
    "\n",
    "wn = nltk.WordNetLemmatizer()\n",
    "\n",
    "def lemmatizing(tokenized_text):\n",
    "    text = [wn.lemmatize(word) for word in tokenized_text]\n",
    "    return text\n",
    "\n",
    "SMS_DATA['Lematized_Message'] = SMS_DATA['Cleaned_Message'].apply(lambda x: lemmatizing(x))\n",
    "\n",
    "SMS_DATA.head(10)"
   ]
  },
  {
   "cell_type": "markdown",
   "metadata": {},
   "source": [
    "## APPLYING COUNT VECTORIZER"
   ]
  },
  {
   "cell_type": "code",
   "execution_count": 14,
   "metadata": {},
   "outputs": [
    {
     "name": "stdout",
     "output_type": "stream",
     "text": [
      "(5169, 8915)\n"
     ]
    }
   ],
   "source": [
    "from sklearn.feature_extraction.text import CountVectorizer\n",
    "\n",
    "count_vect = CountVectorizer(analyzer=lemmatizing)\n",
    "X_counts = count_vect.fit_transform(SMS_DATA['Lematized_Message'])\n",
    "print(X_counts.shape)\n",
    "\n"
   ]
  },
  {
   "cell_type": "code",
   "execution_count": 15,
   "metadata": {},
   "outputs": [
    {
     "name": "stdout",
     "output_type": "stream",
     "text": [
      "['', '0', '008704050406', '0089my', '0121', '01223585236', '01223585334', '0125698789', '02', '020603', '0207', '02070836089', '02072069400', '02073162414', '02085076972', '020903', '021', '050703', '0578', '06', '060505', '061104', '07008009200', '07046744435', '07090201529', '07090298926', '07099833605', '071104', '07123456789', '0721072', '07732584351', '07734396839', '07742676969', '07753741225', '0776xxxxxxx', '07786200117', '077xxx', '078', '07801543489', '07808', '07808247860', '07808726822', '07815296484', '07821230901', '0784987', '0789xxxxxxx', '0794674629107880867867', '0796xxxxxx', '07973788240', '07xxxxxxxxx', '0800', '08000407165', '08000776320', '08000839402', '08000930705', '08000938767', '08001950382', '08002888812', '08002986030', '08002986906', '08002988890', '08006344447', '0808', '08081263000', '08081560665', '0825', '0844', '08448350055', '08448714184', '0845', '08450542832', '08452810071', '08452810073', '08452810075over18s', '0870', '08700621170150p', '08701213186', '08701237397', '08701417012', '08701417012150p', '0870141701216', '087016248', '08701752560', '087018728737', '0870241182716', '08702490080', '08702840625', '08702840625comuk', '08704439680', '08704439680tscs', '08706091795', '0870737910216yrs', '08707500020', '08707509020', '0870753331018', '08707808226', '08708034412', '08708800282', '08709222922', '08709501522', '0870k', '087104711148', '08712101358', '08712103738', '0871212025016', '08712300220', '087123002209am7pm', '08712317606', '08712400200', '08712400603', '08712402050', '08712402578', '08712402779', '08712402902', '08712402972', '08712404000', '08712405020', '08712405022', '08712460324', '08712460324nat', '08712466669', '0871277810710pmin', '0871277810810', '0871277810910pmin', '087143423992stop', '087147123779am7pm', '08714712379', '08714712388', '08714712394', '08714712412', '08714714011', '08714719523', '08715203028', '08715203649', '08715203652', '08715203656', '08715203677', '08715203685', '08715203694', '08715205273', '08715500022', '08715705022', '08717111821', '08717168528', '08717205546', '08717507382', '08717507711', '08717509990', '08717890890', '08717895698', '08717898035', '08718711108', '08718720201', '08718723815', '08718725756', '08718726270', '08718726270150gbpmtmsg18', '08718726970', '08718726971', '08718726978', '087187272008', '08718727868', '08718727870', '08718729755', '08718729758', '08718730555', '08718730666', '08718738001', '08718738002', '08718738034', '08719180219', '08719180248', '08719181259', '08719181503', '08719181513', '08719839835', '08719899217', '08719899229', '08719899230', '09041940223', '09050000301', '09050000332', '09050000460', '09050000555', '09050000878', '09050000928', '09050001295', '09050001808', '09050002311', '09050003091', '09050005321', '09050090044', '09050280520', '09053750005', '09056242159', '09057039994', '09058091854', '09058091870', '09058094454', '09058094455', '09058094507', '09058094565', '09058094583', '09058094594', '09058094597', '09058094599', '09058095107', '09058095201', '09058097189', '09058097218', '09058098002', '09058099801', '09061104276', '09061104283', '09061209465', '09061213237', '09061221061', '09061221066', '09061701444', '09061701461', '09061701851', '09061701939', '09061702893', '09061743386', '09061743806', '09061743810', '09061743811', '09061744553', '09061749602', '09061790121', '09061790125', '09061790126', '09063440451', '09063442151', '09063458130', '0906346330', '09064011000', '09064012103', '09064012160', '09064015307', '09064017295', '09064017305', '09064018838', '09064019014', '09064019788', '09065069120', '09065069154', '09065171142stopsms08', '09065171142stopsms08718727870150ppm', '09065174042', '09065394514', '09065394973', '09065989180', '09065989182', '09066350750', '09066358152', '09066358361', '09066361921', '09066362206', '09066362220', '09066362231', '09066364311', '09066364349', '09066364589', '09066368327', '09066368470', '09066368753', '09066380611', '09066382422', '09066612661', '09066649731from', '09066660100', '09071512432', '09071512433', '09071517866', '09077818151', '09090204448', '09090900040', '09094100151', '09094646631', '09094646899', '09095350301', '09096102316', '09099725823', '09099726395', '09099726429', '09099726481', '09099726553', '09111030116', '09111032124', '09701213186', '0anetworks', '1', '10', '100', '1000', '10000', '100000', '1000call', '100603', '100psms', '1010', '1013', '101mega', '1030', '10803', '10am', '10am7pm', '10am9pm', '10k', '10p', '10pmin', '10ppm', '10th', '11', '1120', '113', '1131', '11414', '1146', '1148', '116', '1172', '118pmsg', '11mths', '12', '120', '12000pes', '1205', '121', '1225', '123', '1230', '125', '1250', '125gift', '128', '12hours', '12hrs', '12mths', '12price', '13', '130', '131004', '1327', '13404', '139', '140', '1405', '140ppm', '145', '1450', '146tf150p', '14thmarch', '150', '1500', '150ea', '150morefrmmob', '150msg', '150mtmsgrcvd18', '150p', '150pday', '150perweeksub', '150perwksub', '150pm', '150pmeg', '150pmin', '150pmmorefrommobile2bremovedmobypobox734ls27yf', '150pmsg', '150pmsgrcvd', '150pmsgrcvdhgsuite3422landsroww1j6hl', '150pmt', '150pmtmsg', '150pmtmsgrcvd18', '150ppermesssubscription', '150ppm', '150ppmpobox10183bhamb64xe', '150ppmsg', '150prcvd', '150psms', '150ptext', '150ptone', '150pw', '150pwk', '150rcvd', '150week', '150wk', '151', '1526', '153', '15541', '15pmin', '16', '1680', '169', '16only', '177', '18', '180', '181104', '1843', '186', '18only', '18ptxt', '18yrs', '195', '1956669', '1appledayno', '1childish', '1cup', '1da', '1er', '1hanuman', '1his', '1hr', '1im', '1lemondayno', '1mcflyall', '1million', '1minmobsmore', '1minmobsmorelkpobox177hp51fl', '1minmoremobsemspobox45po139wa', '1month', '1pm', '1st', '1st4terms', '1stchoicecouk', '1stone', '1tulsi', '1u', '1unbreakable', '1winaweek', '1winawk', '1x150pwk', '1yf', '2', '20', '200', '2000', '20000', '2003', '2004', '2005', '2006', '2007', '2025050', '20f', '20m12aq', '20p', '20pmin', '21', '211104', '215', '21870000hi', '21m', '21st', '22', '220cm2', '23', '2309', '230ish', '24', '241', '241004', '247mp', '24hrs', '24m', '24th', '25', '250', '250k', '255', '25f', '25p', '260305', '261004', '261104', '2667', '26th', '2703', '27603', '28', '2814032', '285', '28days', '28th', '28thfebtcs', '290305', '29100', '29m', '2b', '2bajarangabali', '2bold', '2c', '2channel', '2day', '2daylove', '2docdplease', '2end', '2exit', '2ez', '2getha', '2geva', '2go', '2godid', '2gthr', '2hook', '2hrs', '2i', '2im', '2kbsubject', '2marrow', '2moro', '2morow', '2morro', '2morrow', '2morrowxxxx', '2mro', '2mrw', '2mwen', '2naughty', '2nd', '2nhite', '2nights', '2nite', '2nitetell', '2optout', '2optoutd3wv', '2p', '2police', '2px', '2rcv', '2stop', '2stoptx', '2stoptxt', '2u', '2u2', '2untamed', '2watershd', '2waxsto', '2when', '2wks', '2wt', '2wu', '2years', '2yr', '2yrs', '3', '30', '300', '3000', '300603', '300603tcsbcm4235wc1n3xxcallcost150ppmmobilesvary', '300p', '3030', '30apr', '30pptxt', '30th', '31', '3100', '310303', '311004', '31pmsg150p', '32000', '3230', '32323', '326', '32f', '330', '3350', '3365', '350', '3510i', '35p', '3650', '36504', '3680', '3680offer', '373', '3750', '375max', '38', '391784', '399', '3aj', '3cover', '3d', '3days', '3db', '3g', '3gbp', '3hrs', '3lions', '3lp', '3maruti', '3miles', '3mins', '3mobile', '3optical', '3pound', '3qxj9', '3rd', '3sentiment', '3u', '3unkempt', '3uz', '3wife', '3wk', '3wks', '3x', '3xx', '4', '40', '400', '400minscall', '402', '4041', '40411', '40533', '40gb', '40mph', '415', '41685', '41782', '420', '42049', '4217', '42478', '42810', '430', '434', '44', '4403ldnw1a7rw18', '447797706009', '447801259231', '447per', '448712404000please', '449050000301', '449071512431', '449month', '45', '450', '450p', '450ppw', '450pw', '45239', '46', '47', '4712', '4742', '48', '4882', '48922', '49557', '4a', '4brekkie', '4cook', '4d', '4eva', '4few', '4fil', '4get', '4give', '4got', '4goten', '4info', '4jx', '4lux', '4mths', '4my', '4o', '4pavanaputra', '4press', '4rowdy', '4some1', '4tctxt', '4th', '4the', '4thnovbehind', '4txt120p', '4txtú120', '4u', '4ui', '4utxt', '4w', '4ward', '4wrd', '4years', '5', '50', '500', '5000', '500000', '505060', '50award', '50p', '515', '515pm', '5226', '5249', '526', '528', '530', '532', '54', '542', '545', '5903', '5digital', '5free', '5ful', '5gardener', '5gently', '5i', '5ish', '5k', '5min', '5mls', '5month', '5p', '5pm', '5sankatmochan', '5terror', '5th', '5wb', '5we', '5wkg', '5wq', '5years', '6', '600', '6031', '60400thousadi', '60p', '60pmin', '61200', '61610', '62220cncl', '6230', '62468', '62735', '630', '63miles', '645', '645pm', '650', '6669', '67441233', '68866', '69101', '69200', '69669', '69696', '69698', '69855', '6986618', '69876', '69888', '69888nyt', '69911', '69969', '69988', '6cruel', '6days', '6hl', '6housemaid', '6hrs', '6ish', '6missed', '6months', '6pm', '6ramaduth', '6romantic', '6th', '6times', '6wu', '6zf', '7', '700', '71', '725', '7250', '7250i', '730', '730ish', '730pm', '731', '74355', '750', '75000', '7548', '7634', '7684', '7732584351', '78', '786', '7876150ppm', '78pmin', '79', '7am', '7cfca1a', '7children', '7ish', '7mahaveer', '7oz', '7pm', '7romantic', '7shy', '7th', '7ws', '7zs', '8', '80', '800', '8000930705', '80062', '8007', '80082', '80086', '80122300pwk', '80155', '80160', '80182', '8027', '80488', '80488biz', '80608', '8077', '80878', '81010', '81151', '81303', '81618', '816183', '82242', '82277', '82277unsub', '82324', '82468', '830', '83021', '83039', '83049', '83110', '83118', '83222', '83332please', '83338', '83355', '83370', '83383', '83435', '83600', '83738', '84', '84025', '84122', '84128', '84128custcare', '84199', '84484', '85', '850', '85023', '85069', '85222', '85233', '8552', '85555', '86021', '861', '863', '864233', '86688', '86888', '87021', '87066', '87070', '87077', '87121', '87131', '8714714', '87239', '87575', '8800', '88039', '88039skilgmetscs087147403231winawkage16', '88066', '88088', '88222', '8830', '88600', '88800', '8883', '88877', '88877free', '88888', '89034', '89070', '89080', '89105', '89123', '89545', '89555', '89693', '89938', '8am', '8attractive', '8ball', '8hr', '8lb', '8lovable', '8neighbour', '8o', '8pm', '8th', '8wp', '9', '900', '9061100010', '9153', '924', '92h', '930', '945', '946', '95pax', '96', '97n7qp', '98321561', '9996', '9ae', '9am', '9am11pm', '9decent', '9funny', '9ja', '9pm', '9t', '9th', '9yt', 'a', 'a21', 'a30', 'aa', 'aah', 'aaniye', 'aaooooright', 'aathilove', 'aathiwhere', 'ab', 'abbey', 'abdomen', 'abeg', 'abelu', 'aberdeen', 'abi', 'ability', 'abiola', 'abj', 'able', 'abnormally', 'aboutas', 'abroad', 'absence', 'absolutely', 'abstract', 'abt', 'abta', 'aburo', 'abuse', 'abuser', 'ac', 'academic', 'acc', 'accent', 'accenture', 'accept', 'access', 'accessible', 'accidant', 'accident', 'accidentally', 'accommodation', 'accommodationvouchers', 'accomodate', 'accomodations', 'accordin', 'accordingly', 'accordinglyor', 'account', 'accounting', 'accumulation', 'achanammarakheshqatar', 'ache', 'achieve', 'acid', 'acknowledgement', 'acl03530150pm', 'acnt', 'acoentry41', 'across', 'acsmsrewards', 'act', 'acted', 'actin', 'acting', 'action', 'activ8', 'activate', 'active', 'activity', 'actor', 'actual', 'actually', 'acwicmb3cktz8r74', 'ad', 'adam', 'add', 'addamsfa', 'added', 'addicted', 'addie', 'adding', 'address', 'addressull', 'adewale', 'adi', 'adjustable', 'admin', 'administrator', 'admirer', 'admission', 'admit', 'admiti', 'adore', 'adoring', 'adp', 'adress', 'adrian', 'adrink', 'adsense', 'adult', 'advance', 'adventure', 'adventuring', 'advice', 'advise', 'advising', 'advisor', 'aeronautics', 'aeroplane', 'afew', 'affair', 'affection', 'affectionate', 'affectionsamp', 'affidavit', 'afford', 'afghanistan', 'afraid', 'africa', 'african', 'aft', 'afternon', 'afternoon', 'afterwards', 'aftr', 'ag', 'againcall', 'againloving', 'agalla', 'age', 'age16', 'age16150ppermesssubscription', 'age23', 'agency', 'agent', 'agesring', 'agidhane', 'aging', 'ago', 'agocusoon', 'agree', 'agreen', 'ah', 'aha', 'ahead', 'ahgee', 'ahhh', 'ahhhhjust', 'ahmad', 'ahnow', 'ahold', 'ahsen', 'ahthe', 'ahwhat', 'aid', 'aig', 'aight', 'aint', 'air', 'air1', 'airport', 'airtel', 'aiya', 'aiyah', 'aiyar', 'aiyo', 'ajith', 'ak', 'aka', 'akonlonely', 'al', 'alaikkumpride', 'alaipayuthe', 'albi', 'album', 'albumquite', 'alcohol', 'aldrine', 'alert', 'alertfrom', 'aletter', 'alex', 'alexs', 'alfie', 'algarve', 'algebra', 'algorithm', 'ali', 'alian', 'alibi', 'alive', 'alivebetter', 'allah', 'allahmeet', 'allahrakhesh', 'allalo', 'allday', 'alle', 'allo', 'allow', 'allowed', 'allows', 'alls', 'almost', 'alone', 'along', 'alot', 'already', 'alreadysabarish', 'alright', 'alrightokay', 'alrite', 'alritehave', 'also', 'alsoor', 'alter', 'alternativehope', 'although', 'alwa', 'always', 'alwys', 'am', 'amanda', 'amazing', 'ambitious', 'ambrithmaduraimet', 'american', 'ami', 'amigo', 'amk', 'ammaelife', 'ammo', 'amnow', 'among', 'amongst', 'amore', 'amount', 'amp', 'amplikater', 'amrca', 'amrita', 'amt', 'amused', 'amx', 'amy', 'an', 'ana', 'anal', 'analysis', 'anand', 'anderson', 'andor', 'andre', 'andres', 'andrewsboy', 'andros', 'angel', 'angry', 'animal', 'animation', 'anjie', 'anjolas', 'anna', 'annie', 'anniversary', 'annoncement', 'announced', 'announcement', 'annoyin', 'annoying', 'anonymous', 'anot', 'another', 'ansr', 'answer', 'answered', 'answerin', 'answering', 'answr', 'antelope', 'anthony', 'anti', 'antibiotic', 'anybody', 'anybodys', 'anyhow', 'anymore', 'anyone', 'anyones', 'anyplaces', 'anythiing', 'anythin', 'anything', 'anythings', 'anythingtomorrow', 'anytime', 'anyway', 'anyways', 'anywhere', 'aom', 'apart', 'apartment', 'ape', 'apeshit', 'aphex', 'apnt', 'apo', 'apologetic', 'apologise', 'apologize', 'apology', 'app', 'apparently', 'appeal', 'appear', 'appendix', 'applebees', 'applespairsall', 'application', 'apply', 'apply2', 'applyed', 'applying', 'appointment', 'appreciate', 'appreciated', 'approach', 'approaching', 'appropriate', 'approve', 'approved', 'approx', 'apps', 'appt', 'appy', 'april', 'aproach', 'apt', 'aptitude', 'aquarius', 'ar', 'arab', 'arabian', 'arcade', 'archive', 'ard', 'ardé', 'area', 'arent', 'arestaurant', 'aretaking', 'argentina', 'argh', 'argue', 'arguing', 'argument', 'aries', 'arise', 'arises', 'arithmetic', 'arm', 'armand', 'armands', 'armenia', 'arng', 'arngd', 'arnt', 'around', 'aroundn', 'arpraveesh', 'arr', 'arrange', 'arranging', 'arrested', 'arrival', 'arrive', 'arrived', 'arrow', 'arsenal', 'art', 'artist', 'arty', 'arul', 'arun', 'asa', 'asap', 'asapok', 'asda', 'ash', 'ashley', 'ashleys', 'ashwini', 'asia', 'asian', 'ask', 'askd', 'asked', 'askin', 'asking', 'asks', 'aslamalaikkuminsha', 'asleep', 'aspect', 'assessment', 'asshole', 'assistance', 'associate', 'assume', 'assumed', 'asthere', 'asthma', 'astne', 'astoundingly', 'astrology', 'astronomer', 'asus', 'asusual1', 'ate', 'athletic', 'athome', 'atlanta', 'atlast', 'atleast', 'atm', 'atrocious', 'attach', 'attached', 'attack', 'attempt', 'atten', 'attend', 'attended', 'attending', 'attention', 'attitude', 'attractioni', 'attracts', 'attributed', 'atyour', 'auction', 'auctionpunj', 'audiitions', 'audition', 'audrey', 'audreys', 'audrie', 'august', 'aunt', 'auntie', 'aunty', 'aust', 'australia', 'authorise', 'auto', 'autocorrect', 'av', 'ava', 'availa', 'available', 'availablei', 'availablethey', 'avalarr', 'avatar', 'avble', 'ave', 'avenge', 'avent', 'avenue', 'avin', 'avo', 'avoid', 'avoiding', 'avoids', 'await', 'awaiting', 'awake', 'award', 'awarded', 'away', 'awesome', 'awkward', 'aww', 'awww', 'ax', 'axis', 'ay', 'ayn', 'ayo', 'b', 'b4', 'b4190604', 'b4280703', 'b4u', 'ba', 'ba128nnfwfly150ppm', 'baaaaaaaabe', 'baaaaabe', 'babe', 'babeprobpop', 'babesozi', 'baby', 'babygoodbye', 'babyhope', 'babyjontet', 'babysit', 'babysitting', 'bac', 'back', 'backa', 'backdoor', 'backwards', 'bad', 'badass', 'badly', 'badrith', 'bag', 'bagi', 'bahamas', 'baig', 'bailiff', 'bak', 'bakra', 'bakrid', 'balance', 'ball', 'baller', 'balloon', 'bam', 'bambling', 'ban', 'band', 'bandage', 'bang', 'bangb', 'bangbabes', 'bank', 'banned', 'banneduk', 'banter', 'bao', 'bar', 'barbie', 'barcelona', 'bare', 'barely', 'bari', 'barkley', 'barmed', 'barolla', 'barred', 'barrel', 'barring', 'barry', 'base', 'bash', 'basic', 'basically', 'basket', 'basketball', 'basqihave', 'bat', 'batch', 'batchlor', 'bath', 'bathe', 'bathing', 'bathroom', 'batsman', 'batt', 'battery', 'battle', 'bawling', 'bay', 'bb', 'bbc', 'bbdeluxe', 'bbdpooja', 'bbdthts', 'bblue', 'bbq', 'bc', 'bcaz', 'bck', 'bcm', 'bcm1896wc1n3xx', 'bcm4284', 'bcmsfwc1n3xx', 'bcoz', 'bcozi', 'bcum', 'bcums', 'bcz', 'bday', 'beach', 'bead', 'bear', 'beating', 'beautiful', 'beautifulmay', 'beauty', 'bec', 'becaus', 'becausethey', 'become', 'becomes', 'becoz', 'becz', 'bed', 'bedbut', 'bedreal', 'bedrm', 'bedrm900', 'bedroom', 'bedroomlove', 'beeen', 'beehoon', 'beendropping', 'beer', 'beerage', 'beerrs', 'befor', 'beforehand', 'beforewent', 'beg', 'beggar', 'begging', 'begin', 'begun', 'behalf', 'behave', 'behind', 'bein', 'believe', 'belive', 'bell', 'bellearlier', 'belligerent', 'belly', 'belong', 'belongs', 'belovd', 'beloved', 'belt', 'ben', 'bend', 'beneath', 'beneficiary', 'benefit', 'benny', 'bergkamp', 'beside', 'best', 'best1', 'bestcongrats', 'bestrply', 'bet', 'beta', 'beth', 'betta', 'better', 'bettersn', 'beverage', 'bevieswaz', 'beware', 'beyond', 'bf', 'bffs', 'bfore', 'bhaskar', 'bhayandar', 'bian', 'biatch', 'bid', 'big', 'bigger', 'biggest', 'bike', 'bill', 'billed', 'billing', 'billion', 'billy', 'bilo', 'bimbo', 'bin', 'biola', 'biolas', 'bird', 'birla', 'biro', 'birth', 'birthdate', 'birthday', 'bishan', 'bit', 'bitch', 'bitching', 'bite', 'bk', 'black', 'blackand', 'blackberry', 'blackim', 'blacko', 'blah', 'blake', 'blame', 'blank', 'blanked', 'blanket', 'blastin', 'bleak', 'bleh', 'bless', 'blessed', 'blessget', 'blessing', 'blimey', 'blind', 'block', 'blocked', 'blog', 'blogging', 'bloke', 'blonde', 'bloo', 'blood', 'bloodblood', 'bloodsend', 'bloody', 'bloomberg', 'bloombergcom', 'blow', 'blowing', 'blown', 'blu', 'blue', 'bluetooth', 'bluetoothhdset', 'blueu', 'bluff', 'blur', 'bluray', 'bmw', 'board', 'boat', 'boatin', 'bob', 'body', 'boggy', 'bognor', 'bold', 'bold2', 'bollox', 'boltblue', 'bomb', 'bone', 'bong', 'bonus', 'boo', 'boob', 'book', 'booked', 'bookedthe', 'booking', 'bookmark', 'bookshelf', 'boooo', 'boost', 'booty', 'bootydelious', 'borderline', 'bored', 'borin', 'boring', 'born', 'bornplease', 'borrow', 'bos', 'boston', 'bot', 'bother', 'bothering', 'bottle', 'bottom', 'bought', 'boundary', 'bout', 'boutxx', 'bowa', 'bowl', 'box', 'box1146', 'box139', 'box177', 'box245c2150pm', 'box326', 'box334', 'box334sk38ch', 'box385', 'box39822', 'box403', 'box420', 'box42wr29c', 'box434sk38wp150ppm18', 'box61m60', 'box95qu', 'box97n7qp', 'boy', 'boye', 'boyf', 'boyfriend', 'boytoy', 'boyy', 'bpo', 'bra', 'brah', 'brain', 'braindance', 'brainless', 'brainy', 'brand', 'brandy', 'brat', 'braved', 'bray', 'brb', 'brdget', 'bread', 'breadstick', 'break', 'breaker', 'breakfast', 'breakin', 'breaking', 'breath', 'breathe', 'breathe1', 'breather', 'breathing', 'breeze', 'breezy', 'bribe', 'bridge', 'bridgwater', 'brief', 'bright', 'brighten', 'brilliant', 'brilliant1thingi', 'brilliantly', 'brin', 'bring', 'bringing', 'brings', 'brisk', 'brison', 'bristol', 'british', 'britney', 'bro', 'broad', 'broadband', 'broke', 'broken', 'brolly', 'bros', 'broth', 'brothas', 'brother', 'brought', 'browni', 'brownie', 'browse', 'browser', 'browsin', 'bruce', 'brum', 'bruv', 'bslvyl', 'bsn', 'bsnl', 'bstfrnd', 'bt', 'bthere', 'bthmm', 'btnational', 'btnationalrate', 'btooth', 'btw', 'btwn', 'buck', 'bud', 'buddy', 'budget', 'buen', 'buff', 'buffet', 'buffy', 'bugis', 'build', 'building', 'built', 'bulb', 'bull', 'bullshit', 'bun', 'bunch', 'bundle', 'bunker', 'burden', 'burger', 'burgundy', 'burial', 'burn', 'burning', 'burnt', 'burrito', 'bus', 'bus822656166382', 'busetop', 'business', 'busty', 'busy', 'busyi', 'butt', 'buttheres', 'butting', 'button', 'buy', 'buyer', 'buying', 'buz', 'buzy', 'buzz', 'buzzzz', 'bw', 'bx', 'bx420', 'bx420ip45we', 'bx526', 'byatch', 'bye', 'c', 'c52', 'cab', 'cabin', 'cable', 'cafe', 'cage', 'cake', 'caken', 'cal', 'calculated', 'calculation', 'cali', 'calicut', 'california', 'call', 'call09050000327', 'call2optout4qf2', 'call2optout674', 'call2optoutf4q', 'call2optouthf8', 'call2optoutj', 'call2optoutj5q', 'call2optoutlf56', 'call2optoutn9dx', 'call2optoutyhl', 'callback', 'callcost', 'callcoz', 'calld', 'calldrove', 'called', 'caller', 'callertune', 'callfreefone', 'callin', 'calling', 'callingforgot', 'callon', 'calls150ppm', 'callsmessagesmissed', 'callurgent', 'calm', 'cam', 'camcorder', 'came', 'camera', 'cameravideo', 'camp', 'campus', 'camry', 'canada', 'canal', 'canary', 'cancel', 'canceled', 'cancelled', 'cancer', 'candont', 'canlove', 'canname', 'cannot', 'cannt', 'cant', 'cantdo', 'canteen', 'cap', 'capacity', 'capital', 'cappuccino', 'captain', 'captaining', 'car', 'card', 'cardiff', 'cardin', 'care', 'careabout', 'cared', 'career', 'careful', 'carefully', 'careinsha', 'careless', 'carente', 'careswt', 'careumma', 'carewhoever', 'caring', 'carlie', 'carlin', 'carlos', 'carlosll', 'carly', 'carolina', 'caroline', 'carpark', 'carry', 'carryin', 'carso', 'carton', 'cartoon', 'case', 'cash', 'cashbalance', 'cashbincouk', 'cashed', 'cashin', 'cashto', 'casing', 'cast', 'casting', 'castor', 'casualty', 'cat', 'catch', 'catching', 'category', 'caught', 'cause', 'causing', 'cave', 'caveboy', 'cbe', 'cc', 'cc100pmin', 'ccna', 'cd', 'cdgt', 'cedar', 'ceiling', 'celeb', 'celeb4', 'celebrate', 'celebrated', 'celebration', 'cell', 'census', 'center', 'centre', 'century', 'cer', 'cereal', 'ceri', 'certainly', 'certificate', 'cha', 'chachi', 'chad', 'chain', 'challenge', 'challenging', 'champ', 'champlaxigating', 'champneys', 'chance', 'change', 'changed', 'changing', 'channel', 'chap', 'chapel', 'chapter', 'character', 'charge', 'charged', 'charged150pmsg2', 'charity', 'charles', 'charlie', 'charming', 'chart', 'chase', 'chasing', 'chastity', 'chat', 'chat80155', 'chatim', 'chatlines', 'chatter', 'chatting', 'cheap', 'cheaper', 'cheat', 'cheating', 'chechi', 'check', 'checkboxes', 'checked', 'checkin', 'checking', 'checkmate', 'checkup', 'cheek', 'cheer', 'cheered', 'cheery', 'cheese', 'cheesy', 'cheetos', 'chef', 'chennai', 'chennaibecause', 'chennaii', 'cheque', 'cherish', 'cherthalain', 'chess', 'chest', 'chex', 'cheyyamoand', 'chez', 'chg', 'chgs', 'chic', 'chick', 'chicken', 'chickened', 'chief', 'chik', 'chikku', 'chikkuali', 'chikkub', 'chikkudb', 'chikkugoing', 'chikkuil', 'chikkuk', 'chikkusimple', 'chikkuwat', 'child', 'childish', 'childporn', 'chile', 'chill', 'chillaxin', 'chillin', 'china', 'chinatown', 'chinchilla', 'chinese', 'chinky', 'chiong', 'chip', 'chitchat', 'chk', 'chloe', 'chocolate', 'choice', 'choose', 'choosing', 'chop', 'chord', 'chore', 'chosen', 'chrgd50p', 'christ', 'christian', 'christmas', 'christmasmerry', 'christmassy', 'chuck', 'chuckin', 'church', 'ciao', 'cin', 'cine', 'cinema', 'citizen', 'city', 'citylink', 'cl', 'claim', 'claimcode', 'claire', 'clarification', 'clarify', 'clas', 'clash', 'class', 'classic', 'classmate', 'claypot', 'cld', 'clean', 'cleaning', 'clear', 'cleared', 'clearer', 'clearing', 'clearly', 'clever', 'click', 'cliff', 'clip', 'clock', 'clos1', 'close', 'closeby', 'closed', 'closedincluding', 'closer', 'closingdate040902', 'cloth', 'clothes', 'cloud', 'clover', 'club', 'club4', 'club4mobilescom', 'clue', 'cm', 'cme', 'cmon', 'cn', 'cnl', 'cnn', 'co', 'coach', 'coast', 'coat', 'coaxing', 'cocacola', 'coccooning', 'cochin', 'cock', 'cocksucker', 'coco', 'code', 'code4xx26', 'coffee', 'coherently', 'coimbatore', 'coin', 'coincidence', 'colany', 'cold', 'coldheard', 'colin', 'collage', 'collapsed', 'colleague', 'collect', 'collected', 'collecting', 'collection', 'colleg', 'college', 'collegexx', 'color', 'colour', 'colourful', 'colourredtextcolourtxtstar', 'com', 'comb', 'combination', 'combine', 'come', 'comedy', 'comedycant', 'comei', 'cometil', 'comfey', 'comfort', 'comin', 'coming', 'comingdown', 'comingtmorow', 'command', 'comment', 'commercial', 'commit', 'common', 'community', 'comp', 'companion', 'company', 'compare', 'compass', 'compensation', 'competition', 'complacent', 'complain', 'complaining', 'complaint', 'complementary', 'complete', 'completed', 'completely', 'completes', 'completing', 'complexity', 'compliment', 'complimentary', 'compofstuff', 'comprehensive', 'compromised', 'compulsory', 'computational', 'computer', 'computerless', 'comuk220cm2', 'con', 'conacted', 'concentrate', 'concentrating', 'concentration', 'concern', 'concerned', 'concert', 'conclusion', 'condition', 'conditionand', 'conduct', 'conected', 'conference', 'confidence', 'configure', 'confirm', 'confirmd', 'confirmdeny', 'confirmed', 'conform', 'confused', 'confuses', 'congrats', 'congratulation', 'connect', 'connected', 'connection', 'consensus', 'consent', 'conserve', 'consider', 'considering', 'consistently', 'console', 'constant', 'constantly', 'contact', 'contacted', 'contains', 'content', 'contented', 'contention', 'continent', 'continue', 'continued', 'contract', 'contribute', 'control', 'convenience', 'conversation', 'converted', 'converter', 'convey', 'conveying', 'convince', 'convinced', 'convincing', 'convincingjust', 'cook', 'cooked', 'cooking', 'cooky', 'cool', 'coolmob', 'cooped', 'cooperative', 'cop', 'copied', 'coping', 'copy', 'corect', 'cornwall', 'corporation', 'corrct', 'correct', 'correction', 'correctionor', 'correctly', 'corrupt', 'corvette', 'cosign', 'cost', 'costa', 'costing', 'costume', 'couch', 'cougarpen', 'cough', 'coughing', 'could', 'coulda', 'couldnt', 'count', 'countin', 'countinlots', 'country', 'coupla', 'couple', 'courage', 'courageous', 'course', 'court', 'courtroom', 'cousin', 'cover', 'coveragd', 'coz', 'cozsomtimes', 'cozy', 'cps', 'cr', 'cr01327bt', 'cr9', 'crab', 'crack', 'craigslist', 'crammed', 'cramp', 'crap', 'crash', 'crashed', 'crashing', 'crave', 'craving', 'craziest', 'crazy', 'crazyin', 'cream', 'created', 'creative', 'creativity', 'cred', 'credit', 'credited', 'creep', 'creepy', 'cresubi', 'cribbs', 'cricket', 'cricketer', 'crickiting', 'cried', 'crisis', 'crisisspk', 'cro1327', 'crore', 'cross', 'crossing', 'crowd', 'croydon', 'crucial', 'crucify', 'cruise', 'cruisin', 'crush', 'cry', 'csh11', 'cst', 'cstore', 'ctagg', 'ctargg', 'cthen', 'ctla', 'cttargg', 'ctter', 'cttergg', 'cu', 'cuck', 'cud', 'cuddle', 'cuddled', 'cuddling', 'cudnt', 'culdnt', 'culture', 'cum', 'cumin', 'cumming', 'cup', 'cupboard', 'cuppa', 'curfew', 'curious', 'current', 'currently', 'curry', 'curtsey', 'cust', 'custcare', 'custcare08718720201', 'custom', 'customer', 'customercare', 'customersqueriesnetvisionukcom', 'cut', 'cute', 'cutefrnd', 'cutest', 'cutie', 'cutter', 'cutting', 'cuz', 'cw25wx', 'cya', 'cyclist', 'cyst', 'da', 'daal', 'daalways', 'dabbles', 'dabooks', 'dad', 'daddy', 'dado', 'dagood', 'dahe', 'dahow', 'dai', 'daily', 'dajst', 'dammit', 'damn', 'dan', 'danalla', 'dancce', 'dance', 'dancin', 'dancing', 'dane', 'dang', 'danger', 'dangerous', 'dao', 'daplease', 'dare', 'dark', 'darker', 'darkest', 'darkness', 'darlin', 'darling', 'darlinim', 'darren', 'dartboard', 'dasara', 'dat', 'data', 'date', 'datebox1282essexcm61xn', 'dating', 'datingi', 'datoday', 'datz', 'daurgent', 'dave', 'dawhats', 'dawhere', 'dawn', 'day', 'day2', 'day2find', 'dayexcept', 'dayhas', 'dayshe', 'daysso', 'dayswill', 'daysèn', 'daytime', 'dayu', 'daywith', 'dd', 'de', 'dead', 'deadwell', 'deal', 'dealer', 'dealfarm', 'dealing', 'deam', 'dear', 'dear1', 'dearer', 'deari', 'dearloving', 'dearly', 'dearme', 'dearrakhesh', 'dearregret', 'dearshall', 'dearslp', 'deartake', 'deary', 'death', 'debating', 'dec', 'decade', 'december', 'decide', 'decided', 'deciding', 'decimal', 'decision', 'deck', 'decking', 'declare', 'decorating', 'dedicate', 'dedicated', 'deduct', 'deep', 'deepak', 'deepest', 'deer', 'deeraj', 'def', 'defeat', 'defer', 'definite', 'definitely', 'definitly', 'defo', 'degree', 'dehydrated', 'dehydration', 'del', 'delay', 'delayed', 'delete', 'deleted', 'delhi', 'delicious', 'deliver', 'delivered', 'deliveredtomorrow', 'delivery', 'deltomorrow', 'deluxe', 'dem', 'demand', 'den', 'dena', 'dengra', 'denis', 'dent', 'dental', 'dentist', 'denying', 'department', 'dependable', 'dependent', 'depends', 'deposit', 'deposited', 'depressed', 'depression', 'dept', 'der', 'derek', 'dereks', 'derp', 'describe', 'description', 'desert', 'deserve', 'designation', 'desire', 'desk', 'desparate', 'desparately', 'desperate', 'despite', 'dessert', 'destination', 'destiny', 'detail', 'detailed', 'detailsi', 'determine', 'determined', 'detroit', 'deus', 'develop', 'developed', 'developer', 'device', 'devil', 'devouring', 'dey', 'deyhope', 'deyi', 'dha', 'dhina', 'dhoni', 'dhorte', 'di', 'dial', 'dialling', 'dialogue', 'diamond', 'diaper', 'dice', 'dick', 'dict', 'dictionary', 'diddy', 'didnt', 'didntgive', 'didt', 'die', 'died', 'diesel', 'diet', 'dieting', 'diff', 'differ', 'differbe', 'difference', 'different', 'difficult', 'difficulty', 'dificult', 'digi', 'digit', 'digital', 'dignity', 'dileepthank', 'dime', 'dimension', 'din', 'dine', 'dined', 'dinero', 'ding', 'dining', 'dinner', 'dinnermsg', 'dino', 'dint', 'dip', 'dippeditinadew', 'direct', 'directly', 'director', 'dirt', 'dirtiest', 'dirty', 'dis', 'disagreeable', 'disappeared', 'disappointment', 'disaster', 'disastrous', 'disc', 'disclose', 'disconnect', 'disconnected', 'discount', 'discreet', 'discus', 'discussed', 'disease', 'diskyou', 'dislike', 'dismay', 'dismissial', 'display', 'distance', 'distract', 'disturb', 'disturbancemight', 'disturbing', 'ditto', 'divert', 'division', 'divorce', 'diwali', 'dizzamn', 'dizzee', 'dl', 'dled', 'dlf', 'dload', 'dnt', 'dob', 'dobby', 'dobbys', 'doc', 'dock', 'doctor', 'document', 'dodda', 'dodgey', 'doesdiscountshitinnit', 'doesnt', 'dog', 'dogbreath', 'dogg', 'doggin', 'dogging', 'doggy', 'dogwood', 'doin', 'doinat', 'doinghow', 'doingwhat', 'doinnearly', 'dointerested', 'doke', 'dokey', 'doll', 'dollar', 'dolld', 'dom', 'domain', 'donate', 'done', 'donewant', 'donno', 'dont', 'dont4get2text', 'dontcha', 'dontignore', 'dontplease', 'donyt', 'doom', 'door', 'dorm', 'dormitory', 'dorothykiefercom', 'dose', 'dosomething', 'dot', 'double', 'doublefaggot', 'doublemins', 'doubletxt', 'doubt', 'doug', 'dough', 'down', 'download', 'downloaded', 'downloads', 'downon', 'downstem', 'dozen', 'dp', 'dr', 'dracula', 'drama', 'dramastorms', 'dramatic', 'drastic', 'draw', 'drawplease', 'dreading', 'dream', 'dreamlove', 'dreamsmuah', 'dreamstake', 'dreamsu', 'dreamz', 'dress', 'dressed', 'dresser', 'drink', 'drinkin', 'drinking', 'drinkpa', 'drive', 'driver', 'drivin', 'driving', 'drizzling', 'drms', 'drmstake', 'drop', 'dropped', 'drove', 'drpd', 'drug', 'drugdealer', 'drum', 'drunk', 'drunkard', 'drunken', 'drvgsto', 'dry', 'dryer', 'dsnt', 'dt', 'dual', 'dub', 'dubsack', 'duchess', 'ducking', 'dude', 'dudette', 'due', 'duffer', 'dull', 'dumb', 'dump', 'dun', 'dungerees', 'dunno', 'duo', 'durban', 'durham', 'dusk', 'dust', 'duvet', 'dvd', 'dvg', 'dwn', 'dying', 'dysentry', 'e', 'e14', 'eachother', 'ear', 'earlier', 'earlierwe', 'earliest', 'early', 'earn', 'earning', 'earth', 'earthsofa', 'easier', 'easiest', 'easily', 'east', 'eastenders', 'easter', 'easy', 'eat', 'eaten', 'eatin', 'eating', 'ebay', 'ec2a', 'echo', 'eckankar', 'ecstacy', 'ecstasy', 'edge', 'edhae', 'edison', 'edition', 'edrunk', 'education', 'educational', 'edukkukayee', 'edward', 'ee', 'eek', 'eerie', 'eerulli', 'effect', 'efficient', 'efreefone', 'eg', 'eg23f', 'eg23g', 'egbon', 'egg', 'eggpotato', 'eggspert', 'ego', 'eh', 'eh74rr', 'eight', 'eighth', 'eightish', 'eire', 'either', 'el', 'ela', 'elaborate', 'elaborating', 'elaine', 'elama', 'elaya', 'eldest', 'election', 'electricity', 'elephant', 'eleven', 'elliot', 'ello', 'else', 'elsewhere', 'elvis', 'em', 'email', 'emailed', 'embarassed', 'embarassing', 'embarrassed', 'embassy', 'emergency', 'emerging', 'emigrated', 'emily', 'emotion', 'employee', 'employer', 'empty', 'en', 'enamous', 'enc', 'end', 'ended', 'ending', 'endless', 'endof', 'endowed', 'enemy', 'energy', 'eng', 'engaged', 'engagement', 'engalnd', 'engin', 'england', 'english', 'enjoy', 'enjoyed', 'enjoyin', 'enjoying', 'enketa', 'enna', 'ennal', 'enough', 'enter', 'entered', 'enters', 'entertain', 'entertaining', 'entey', 'entire', 'entirely', 'entitled', 'entrepreneur', 'entropication', 'entry', 'enufcredeit', 'enuff', 'envelope', 'envy', 'epi', 'epsilon', 'equally', 'er', 'ericson', 'ericsson', 'erm', 'erotic', 'err', 'error', 'ertini', 'eruku', 'erupt', 'erutupalam', 'erything', 'esaplanade', 'escalator', 'escape', 'ese', 'eshxxxxxxxxxxx', 'especially', 'espell', 'esplanade', 'essay', 'essential', 'establish', 'eta', 'etc', 'eternal', 'ethnicity', 'ethreats', 'ettans', 'euro', 'euro2004', 'eurodisinc', 'europe', 'evaluation', 'evaporated', 'eve', 'eveb', 'evei', 'even', 'evening', 'event', 'eventually', 'ever', 'every', 'every1', 'everybody', 'everybodys', 'everyboy', 'everyday', 'everyone', 'everyones', 'everyso', 'everythin', 'everything', 'everytime', 'everywhere', 'evey', 'eviction', 'evil', 'evn', 'evng', 'evo', 'evone', 'evr', 'evrey', 'evry', 'evry1', 'evrydy', 'ew', 'ex', 'exact', 'exactly', 'exam', 'excellent', 'except', 'exchanged', 'excited', 'exciting', 'excuse', 'excused', 'exe', 'executive', 'exercise', 'exeter', 'exhaust', 'exhausted', 'exhibition', 'exist', 'exmpel', 'exorcism', 'exorcist', 'exp', 'expect', 'expected', 'expecting', 'expects', 'expensive', 'experience', 'experiencehttpwwwvouch4mecometlpdiningasp', 'experiment', 'expert', 'expired', 'expiredso', 'expires', 'expiry', 'explain', 'explicit', 'explicitly', 'explosive', 'expose', 'exposed', 'express', 'expression', 'ext', 'exterminator', 'extra', 'extract', 'extreme', 'exwife', 'ey', 'eye', 'eyeddont', 'f', 'fa', 'fab', 'faber', 'face', 'faceasssssholeeee', 'facebook', 'facility', 'fact', 'factory', 'faded', 'faggy', 'faglord', 'failed', 'failing', 'fails', 'failure', 'fainting', 'fair', 'faith', 'faithevening', 'fake', 'fakemy', 'fakeyes', 'fal', 'falconerf', 'fall', 'fallen', 'falling', 'fals', 'famamus', 'familiar', 'family', 'familymay', 'famous', 'fan', 'fancied', 'fancy', 'fantastic', 'fantasy', 'far', 'farm', 'farrell', 'farting', 'fassyole', 'fast', 'faster', 'fastest', 'fastpls', 'fat', 'fated', 'father', 'fathima', 'fatty', 'fault', 'faultal', 'faultfed', 'fav', 'fave', 'favor', 'favorite', 'favour', 'favourite', 'fb', 'fear', 'feathery', 'feature', 'feb', 'febapril', 'february', 'fedex', 'fee', 'feed', 'feel', 'feelin', 'feeling', 'feelingood', 'feelingwavering', 'fell', 'fellow', 'felt', 'female', 'feng', 'festival', 'fetch', 'fetching', 'fever', 'fffff', 'ffffffffff', 'ffffuuuuuuu', 'fgkslpo', 'fgkslpopw', 'fidalfication', 'field', 'fieldof', 'fiendmake', 'fifa', 'fifteen', 'fifth', 'fifty', 'fight', 'fighting', 'fightng', 'figure', 'figuring', 'file', 'fill', 'filled', 'filling', 'film', 'filth', 'filthy', 'filthyguys', 'final', 'finalise', 'finally', 'finance', 'financial', 'find', 'finding', 'fine', 'fineabsolutly', 'fineinshah', 'finest', 'finewhen', 'finger', 'finish', 'finishd', 'finished', 'finishing', 'fink', 'finn', 'fire', 'fired', 'firefox', 'fireplace', 'firesare', 'firmware', 'firsg', 'first', 'fish', 'fishhead', 'fishrman', 'fit', 'fiting', 'five', 'fix', 'fixd', 'fixed', 'fixedline', 'fizz', 'flag', 'flaked', 'flaky', 'flame', 'flash', 'flat', 'flatter', 'flavour', 'flea', 'fletcher', 'flew', 'flight', 'flim', 'flip', 'flippin', 'flirt', 'flirting', 'floating', 'flood', 'floor', 'floppy', 'florida', 'flow', 'flower', 'flowing', 'fluid', 'flung', 'flurry', 'flute', 'fly', 'flyim', 'flying', 'flyng', 'fml', 'fmyou', 'fne', 'fo', 'fold', 'foley', 'folk', 'follow', 'followed', 'followin', 'following', 'follows', 'fond', 'fondly', 'fone', 'foned', 'fones', 'fonin', 'food', 'fool', 'fooled', 'foot', 'football', 'footblcrckt', 'footie', 'footprint', 'footy', 'force', 'forced', 'foregate', 'foreign', 'forever', 'forevr', 'forfeit', 'forget', 'forgets', 'forgive', 'forgiven', 'forgiveness', 'forgot', 'forgotten', 'forgt', 'form', 'formal', 'formallypls', 'format', 'formatting', 'formclark', 'formsdon', 'forth', 'fortune', 'forum', 'forward', 'forwarded', 'forwarding', 'found', 'foundurself', 'four', 'fourth', 'foward', 'fowler', 'fox', 'fps', 'fr', 'fraction', 'fran', 'frankgood', 'frankie', 'franxx', 'franyxxxxx', 'fraud', 'freak', 'freaked', 'freaking', 'freaky', 'fredericksburg', 'free', 'free2day', 'freedom', 'freeentry', 'freefone', 'freek', 'freely', 'freemessage', 'freemsg', 'freemsgfav', 'freemsgfeelin', 'freenokia', 'freephone', 'freeringtone', 'freeringtonereply', 'freesend', 'freezing', 'freinds', 'fren', 'french', 'frens', 'frequently', 'fresh', 'fresher', 'fret', 'fri', 'friday', 'fridayhope', 'fridge', 'fried', 'friend', 'friendofafriend', 'friendsare', 'friendship', 'friendshipmotherfatherteacherschildrens', 'fring', 'fringe', 'frm', 'frmcloud', 'frnd', 'frnds', 'frndship', 'frndshp', 'frndsship', 'frndz', 'frnt', 'fro', 'frog', 'frogaxel', 'fromm', 'fromwrk', 'front', 'frontierville', 'frosty', 'fruit', 'frwd', 'frying', 'ft', 'fuck', 'fucked', 'fuckin', 'fucking', 'fuckinniceselfishdeviousbitchanywayi', 'fudge', 'fuelled', 'fujitsu', 'ful', 'fulfil', 'full', 'fullonsmscom', 'fumbling', 'fun', 'function', 'fund', 'fundamental', 'funeral', 'funk', 'funky', 'funny', 'furniture', 'fusion', 'future', 'fuuuuck', 'fwiw', 'fyi', 'g', 'g2', 'g696ga', 'ga', 'gail', 'gailxx', 'gain', 'gained', 'gal', 'galcan', 'galileo', 'galno', 'galsu', 'gam', 'game', 'gamestar', 'gandhipuram', 'ganesh', 'gang', 'gap', 'garage', 'garbage', 'garden', 'gari', 'garment', 'gary', 'gas', 'gastroenteritis', 'gate', 'gauge', 'gautham', 'gave', 'gay', 'gayd', 'gayle', 'gaytextbuddycom', 'gaze', 'gb', 'gbp', 'gbp150week', 'gbp450week', 'gbp5month', 'gbpsms', 'gbpweek', 'gd', 'gdeve', 'gdnow', 'gdthe', 'ge', 'gee', 'geeee', 'geeeee', 'geelater', 'gei', 'gek1510', 'gender', 'gene', 'general', 'generally', 'genius', 'gent', 'gentle', 'gentleman', 'gently', 'genuine', 'genus', 'geoenvironmental', 'george', 'gep', 'ger', 'germany', 'get', 'get4an18th', 'getiing', 'geting', 'getsleep', 'getstop', 'gettin', 'getting', 'getzedcouk', 'gf', 'ghodbandar', 'ghost', 'gibbs', 'gibe', 'gift', 'gifted', 'giggle', 'gigolo', 'gimme', 'gimmi', 'gin', 'girl', 'girld', 'girlfrnd', 'girlie', 'gist', 'giv', 'give', 'given', 'giving', 'givits', 'glad', 'gland', 'glasgow', 'glass', 'glo', 'global', 'glorious', 'glory', 'gloucesterroad', 'gmgngegn', 'gmgngegnt', 'gmw', 'gn', 'gnarl', 'go', 'go2', 'go2sri', 'goa', 'goal', 'goalsteam', 'gobi', 'god', 'godi', 'godnot', 'godtaken', 'godyou', 'goggles', 'goigng', 'goin', 'goin2bed', 'going', 'gokila', 'gold', 'golddigger', 'golden', 'goldviking', 'golf', 'gon', 'gona', 'gone', 'goneu', 'gong', 'gonna', 'gonnamissu', 'good', 'gooddhanush', 'goodenvironment', 'goodevening', 'goodfine', 'goodfriend', 'goodmate', 'goodmorning', 'goodmorningmy', 'goodnight', 'goodnite', 'goodno', 'goodnoon', 'goodo', 'goodtimeoli', 'goodwhen', 'goody', 'google', 'gopalettan', 'gorgeous', 'gosh', 'gossip', 'gossx', 'got', 'gota', 'gotany', 'gotmarried', 'goto', 'gotta', 'gotten', 'gotto', 'goverment', 'govtinstituitions', 'gowait', 'gower', 'gprs', 'gpu', 'gr8', 'gr8fun', 'gr8prizes', 'grab', 'grace', 'graduated', 'grahmbell', 'gram', 'gran', 'grand', 'grandfather', 'grandma', 'granite', 'granted', 'graphic', 'grasp', 'grateful', 'grave', 'gravel', 'gravity', 'gravy', 'gray', 'grazed', 'gre', 'great', 'greatbhaji', 'greatbye', 'greatest', 'greatly', 'greatness', 'greece', 'green', 'greeni', 'greet', 'greeting', 'grief', 'grin', 'grinder', 'grinule', 'grl', 'grocer', 'grooved', 'groovy', 'groovying', 'ground', 'groundamla', 'group', 'grow', 'growing', 'grown', 'grownup', 'growrandom', 'grr', 'grumble', 'grumpy', 'gsex', 'gsoh', 'gt', 'gua', 'guai', 'guarantee', 'guaranteed', 'gucci', 'gud', 'gudk', 'gudni8', 'gudnite', 'gudnitetcpractice', 'gudnyt', 'guess', 'guessed', 'guessin', 'guessing', 'guidance', 'guide', 'guild', 'guilty', 'guitar', 'gumbys', 'guoyang', 'gurl', 'gut', 'guy', 'gv', 'gving', 'gwr', 'gym', 'gymnastics', 'gynae', 'gyno', 'h', 'ha', 'habbahw', 'habit', 'hack', 'hadnt', 'hadya', 'haf', 'haha', 'hahahause', 'hahatake', 'hai', 'hail', 'hair', 'haircut', 'hairdresser', 'haiyoh', 'haiz', 'half', 'half8th', 'hall', 'halla', 'hallaq', 'halloween', 'ham', 'hamper', 'hamster', 'hand', 'handed', 'handing', 'handle', 'handset', 'handsome', 'handsomes', 'hang', 'hanger', 'hangin', 'hanging', 'hank', 'hannaford', 'hanumanji', 'happen', 'happend', 'happened', 'happenin', 'happening', 'happens', 'happier', 'happiest', 'happily', 'happiness', 'happy', 'hard', 'hardcore', 'harder', 'hardest', 'hardly', 'hari', 'harishs', 'harlem', 'harri', 'harry', 'hasbroin', 'hasnt', 'hassling', 'hat', 'hate', 'haughaighgtujhyguj', 'haul', 'haunt', 'hav', 'hav2hear', 'hava', 'havbeen', 'havebeen', 'havent', 'haventcn', 'havin', 'havnt', 'hcl', 'hdd', 'he', 'head', 'headache', 'headin', 'heading', 'headset', 'headstart', 'heal', 'healer', 'healthy', 'heap', 'hear', 'heard', 'hearin', 'hearing', 'heart', 'hearted', 'heartgn', 'heartheart', 'heartsnot', 'heat', 'heater', 'heaven', 'heavily', 'heavy', 'hectic', 'hee', 'heehee', 'hehe', 'height', 'held', 'helen', 'hell', 'hella', 'hello', 'hellodrivby0quit', 'helloed', 'hellogorgeous', 'hellohow', 'helloooo', 'helloyou', 'help', 'help08700469649', 'help08700621170150p', 'help08712400602450p', 'help08714742804', 'help08718728876', 'helpful', 'helping', 'helpline', 'heltiniiyo', 'hen', 'hence', 'henry', 'hep', 'herepls', 'hereremember', 'herethanksi', 'heri', 'herlove', 'hermy', 'hero', 'heroi', 'heron', 'hershe', 'herwho', 'herwill', 'hesitant', 'hesitate', 'hesitation', 'hex', 'hey', 'heygreat', 'hgsuite3422lands', 'hgsuite3422landsroww1j6hl', 'hhahhaahahah', 'hi', 'hicts', 'hidden', 'hide', 'hidid', 'hiding', 'high', 'highest', 'hii', 'hilariousalso', 'hill', 'hillsborough', 'himso', 'himthen', 'hint', 'hip', 'hiphop', 'hire', 'hisher', 'history', 'hit', 'hitechnical', 'hitler', 'hitman', 'hitteranyway', 'hittng', 'hiwhat', 'hiya', 'hl', 'hlday', 'hlp', 'hm', 'hme', 'hmm', 'hmmbad', 'hmmm', 'hmmmbut', 'hmmmhow', 'hmmmkbut', 'hmmmm', 'hmmmstill', 'hmmmy', 'hmph', 'hmv', 'hmv1', 'ho', 'hockey', 'hogidhechinnu', 'hogli', 'hogolo', 'hol', 'holby', 'hold', 'holder', 'holding', 'hole', 'holiday', 'holidayso', 'holla', 'hollalater', 'hols', 'holy', 'home', 'homebut', 'homecheck', 'homeleft', 'homelove', 'homeowner', 'homewot', 'hon', 'honest', 'honestly', 'honesty', 'honey', 'honeybee', 'honeydid', 'honeymoon', 'honi', 'hont', 'hoo', 'hooch', 'hoody', 'hook', 'hooked', 'hoop', 'hop', 'hope', 'hopeafternoon', 'hoped', 'hopeful', 'hopefully', 'hopeing', 'hopeso', 'hopeu', 'hoping', 'hor', 'horniest', 'horny', 'horo', 'horrible', 'horse', 'hospital', 'hostbased', 'hostel', 'hostile', 'hot', 'hotel', 'hotmix', 'hottest', 'hour', 'hourish', 'house', 'houseful', 'housemaid', 'housewife', 'housework', 'housing', 'howard', 'howda', 'howdy', 'however', 'howre', 'hows', 'howu', 'howve', 'howz', 'hp', 'hp20', 'hppnss', 'hr', 'hrishi', 'hsbc', 'html', 'httpalto18coukwavewaveaspo44345', 'httpcareers', 'httpdoit', 'httpgotbabescouk', 'httpimg', 'httptms', 'httpwap', 'httpwwwbubbletextcom', 'httpwwwetlpcoukexpressoffer', 'httpwwwetlpcoukreward', 'httpwwwgr8prizescom', 'httpwwwurawinnercom', 'httpwwwwtlpcouktext', 'hu', 'huai', 'hubby', 'hudgi', 'hug', 'huge', 'hugging', 'hugh', 'huh', 'hui', 'huiming', 'hum', 'human', 'humanity', 'hun', 'hundred', 'hundredhe', 'hungover', 'hungry', 'hunk', 'hunlove', 'hunny', 'hunnyhope', 'hunnyjust', 'hunnywot', 'hunonbus', 'hunt', 'hunting', 'hurricane', 'hurried', 'hurry', 'hurt', 'hurting', 'husband', 'hussey', 'hustle', 'hut', 'hv', 'hvae', 'hw', 'hwd', 'hwkeep', 'hyde', 'hypertension', 'hypotheticalhuagauahahuagahyuhagga', 'ia', 'iam', 'ibh', 'ibhltd', 'ibiza', 'ibm', 'ibn', 'ibored', 'ibuprofen', 'ic', 'iccha', 'ice', 'icic', 'icicibankcom', 'icky', 'icon', 'id', 'idc', 'idconvey', 'idea', 'ideal', 'identification', 'identifier', 'idiot', 'idk', 'idp', 'idu', 'ie', 'iff', 'ifink', 'ifwhenhow', 'ig11', 'ignorant', 'ignore', 'ignoring', 'ijust', 'ikea', 'ikno', 'iknow', 'il', 'ileave', 'ill', 'illness', 'illspeak', 'ilol', 'im', 'ima', 'image', 'imaginationmy', 'imagine', 'imat', 'imf', 'imin', 'imma', 'immed', 'immediately', 'immunisation', 'imp', 'impatient', 'implication', 'important', 'importantly', 'imposed', 'impossible', 'imposter', 'impress', 'impressed', 'impression', 'impressively', 'improve', 'improved', 'imprtant', 'in2', 'inc', 'inch', 'incident', 'inclu', 'include', 'includes', 'including', 'inclusive', 'incomm', 'inconsiderate', 'inconvenience', 'inconvenient', 'incorrect', 'increase', 'incredible', 'increment', 'inde', 'indeed', 'independence', 'independently', 'india', 'indian', 'indianpls', 'indicate', 'individual', 'individualtime', 'indyarockscom', 'inever', 'infact', 'infection', 'infernal', 'influx', 'info', 'inforingtonekingcouk', 'inform', 'information', 'informed', 'informedrgdsrakheshkerala', 'infotxt82228couk', 'infovipclub4u', 'infowww100percentrealcom', 'infra', 'infront', 'ing', 'ingredient', 'initiate', 'ink', 'inlude', 'inmind', 'inner', 'inning', 'innocent', 'innu', 'inour', 'inperialmusic', 'inpersonation', 'inr', 'insect', 'insha', 'inshah', 'inside', 'inspection', 'inst', 'install', 'installation', 'installing', 'instant', 'instantly', 'instead', 'instruction', 'insurance', 'intelligent', 'intend', 'intention', 'interest', 'interested', 'interesting', 'interflora', 'interfued', 'internal', 'internet', 'internetservice', 'interview', 'interviw', 'intha', 'intimate', 'intrepid', 'intro', 'intrude', 'invader', 'invention', 'invest', 'investigate', 'invitation', 'invite', 'invited', 'inviting', 'invnted', 'invoice', 'involve', 'involved', 'iouri', 'ip', 'ip4', 'ipad', 'ipaditan', 'ipads', 'iphone', 'ipod', 'iq', 'iraq', 'ireneere', 'iriver', 'iron', 'ironing', 'irritated', 'irritates', 'irritating', 'irritation', 'irulinae', 'isaiahd', 'isare', 'iscoming', 'ish', 'ishtamayoohappy', 'island', 'islove', 'isnt', 'issue', 'isvimportant', 'italian', 'itboth', 'itc', 'itcould', 'item', 'iter', 'ithink', 'ithis', 'iti', 'itjust', 'itleave', 'itlet', 'itll', 'itmail', 'itmay', 'itna', 'itnow', 'itor', 'itplspls', 'itried2tell', 'itsnot', 'ittb', 'itu', 'itwhichturnedinto', 'itxt', 'itxx', 'itz', 'ivatte', 'ive', 'iwana', 'iwasmarinethat', 'iz', 'izzit', 'j', 'j89', 'jabo', 'jack', 'jacket', 'jackpot', 'jackson', 'jacuzzi', 'jada', 'jade', 'jaklin', 'jam', 'james', 'jamster', 'jamstercouk', 'jamsterget', 'jamz', 'jan', 'janarige', 'jane', 'janinexx', 'january', 'janx', 'jap', 'japanese', 'jason', 'java', 'jay', 'jaya', 'jaykwon', 'jaz', 'jazz', 'jb', 'jd', 'je', 'jealous', 'jean', 'jeetey', 'jeevithathile', 'jelly', 'jen', 'jenne', 'jenny', 'jenxxx', 'jeremiah', 'jeri', 'jerk', 'jerry', 'jersey', 'jess', 'jesus', 'jet', 'jetton', 'jewelry', 'jez', 'ji', 'jia', 'jiayin', 'jide', 'jiu', 'jjc', 'jo', 'joanna', 'job', 'jobyet', 'jock', 'jod', 'jog', 'jogging', 'john', 'join', 'joined', 'joinedhope', 'joinedso', 'joining', 'joke', 'joker', 'jokethet', 'jokin', 'joking', 'jolly', 'jolt', 'jon', 'jones', 'jontin', 'jordan', 'jordantxt', 'jorgeshock', 'jos', 'jot', 'journey', 'joy', 'jp', 'jsco', 'jst', 'jstfrnd', 'jsut', 'juan', 'judgementali', 'juicy', 'jules', 'juliana', 'julianaland', 'july', 'jump', 'jumper', 'june', 'jungle', 'junna', 'jurong', 'jus', 'justbeen', 'justify', 'justthought', 'juswoke', 'juz', 'k', 'k52', 'k61', 'k718', 'kaaj', 'kadeem', 'kafter', 'kaiez', 'kaila', 'kaitlyn', 'kalaachutaarama', 'kalainar', 'kalisidare', 'kall', 'kallis', 'kalstiyathen', 'kama', 'kanagu', 'kane', 'kanji', 'kano', 'kanoanyway', 'kanoil', 'kanowhr', 'kappa', 'karaoke', 'karnan', 'karo', 'kate', 'katexxx', 'kath', 'kavalan', 'kay', 'kaypoh', 'kb', 'kbut', 'kdo', 'ke', 'keen', 'keep', 'keeping', 'keepintouch', 'kegger', 'keluviri', 'ken', 'keng', 'kent', 'kept', 'kerala', 'keralacircle', 'keris', 'kettoda', 'key', 'keypad', 'keyword', 'kfc', 'kg', 'kgive', 'kgood', 'khelate', 'ki', 'kicchu', 'kick', 'kickboxing', 'kickoff', 'kid', 'kidding', 'kidz', 'kill', 'killed', 'killing', 'kilo', 'kim', 'kind', 'kinda', 'kindly', 'king', 'kingdom', 'kintu', 'kiosk', 'kip', 'kisi', 'kiss', 'kissing', 'kit', 'kittum', 'kitty', 'kkadvance', 'kkany', 'kkapo', 'kkare', 'kkcongratulation', 'kkfrom', 'kkgoodstudy', 'kkhow', 'kkim', 'kkits', 'kkthis', 'kkwhat', 'kkwhen', 'kkwhere', 'kkwhy', 'kkyesterday', 'kl341', 'knackered', 'knee', 'knew', 'knickers', 'knock', 'knocking', 'know', 'knowhe', 'knowing', 'known', 'knowneway', 'knowthis', 'knowwait', 'knowyetunde', 'knw', 'ko', 'kochi', 'kodstini', 'kodthini', 'konw', 'korche', 'korean', 'korli', 'korte', 'kotees', 'kothi', 'kr', 'ksry', 'kthen', 'ktv', 'ku', 'kuch', 'kudiyarasu', 'kusruthi', 'kvb', 'kwish', 'kyou', 'kz', 'l', 'l8', 'l8er', 'l8r', 'l8tr', 'la', 'la1', 'la3', 'la32wu', 'lab', 'labor', 'lac', 'lacking', 'lacsthats', 'lacsthere', 'laden', 'ladiesu', 'lady', 'lag', 'lage', 'lager', 'laid', 'laidwant', 'lakh', 'lambda', 'lambu', 'lamp', 'lancaster', 'land', 'landing', 'landline', 'landlineonly', 'landmark', 'lane', 'langport', 'language', 'lanka', 'lanre', 'lap', 'lapdancer', 'laptop', 'lar', 'lara', 'laready', 'large', 'largest', 'lark', 'lasagna', 'last', 'lastest', 'lasting', 'late', 'latebut', 'latei', 'lately', 'latelyxxx', 'later', 'lateso', 'latest', 'latr', 'laugh', 'laughed', 'laughing', 'laundry', 'laurie', 'lautech', 'lavender', 'law', 'laxinorficated', 'lay', 'layin', 'laying', 'lazy', 'lccltd', 'ldn', 'ldnw15h', 'le', 'lead', 'leadership', 'leading', 'leaf', 'leafcutter', 'leafdayno', 'league', 'leannewhat', 'learn', 'learned', 'least', 'least5times', 'leastwhich', 'leave', 'leaving', 'lect', 'lecture', 'lecturer', 'left', 'leftover', 'leg', 'legal', 'legitimat', 'leh', 'lehhaha', 'lei', 'lekdog', 'lemme', 'length', 'lennon', 'leo', 'leona', 'leonardo', 'leonas', 'lesser', 'lesson', 'let', 'letter', 'leu', 'level', 'li', 'liao', 'liaoso', 'liaotoo', 'lib', 'libertine', 'library', 'lick', 'lido', 'lie', 'life', 'lifeand', 'lifebook', 'lifeis', 'lifethis', 'lifetime', 'lifeyou', 'lifpartnr', 'lift', 'lifted', 'lifting', 'light', 'lighter', 'lightly', 'lik', 'like', 'liked', 'likely', 'likeyour', 'likingbe', 'lil', 'lily', 'lim', 'limit', 'limited', 'limiting', 'limping', 'lindsay', 'line', 'linear', 'lined', 'linerental', 'lineyou', 'lingerie', 'lingo', 'link', 'linux', 'lion', 'lionm', 'lionp', 'lip', 'lipo', 'liquor', 'list', 'listed', 'listen', 'listener', 'listening', 'listening2the', 'listn', 'lit', 'literally', 'litre', 'little', 'live', 'lived', 'liver', 'liverpool', 'living', 'lk', 'lkpobox177hp51fl', 'llspeak', 'lm', 'lmao', 'lmaonice', 'lnly', 'lo', 'load', 'loan', 'lobby', 'local', 'location', 'locaxx', 'lock', 'lodge', 'lodging', 'log', 'logged', 'logging', 'login', 'logo', 'logoff', 'logon', 'logopic', 'logosmusicnews', 'loko', 'lol', 'lolnice', 'lololo', 'londn', 'london', 'loneliness', 'lonely', 'long', 'longer', 'lonlines', 'loo', 'look', 'lookatme', 'looked', 'lookin', 'looking', 'lool', 'loooooool', 'looovvve', 'loose', 'loosing', 'loosu', 'lor', 'lord', 'lorgoin', 'lorwe', 'lose', 'loser', 'loses', 'losing', 'loss', 'lost', 'lot', 'loti', 'lotr', 'lotsly', 'lotsof', 'lotta', 'lotto', 'lotwill', 'lotz', 'lou', 'loud', 'lounge', 'lousy', 'lov', 'lovable', 'love', 'loveable', 'loved', 'lovejen', 'lovely', 'loveme', 'lover', 'loverakhesh', 'loverboy', 'lovin', 'loving', 'lovingly', 'lovly', 'low', 'lowcost', 'lower', 'lowes', 'loxahatchee', 'loyal', 'loyalty', 'lrg', 'ls1', 'ls15hb', 'ls278bb', 'lst', 'lt', 'lt3', 'ltd', 'ltdecimalgt', 'ltdhelpdesk', 'ltemailgt', 'ltgt', 'lttimegt', 'lttrs', 'lturlgt', 'lubly', 'luck', 'luck2', 'luckily', 'lucky', 'lucozade', 'lucozadecoukwrc', 'lucy', 'lucyxx', 'luks', 'lul', 'lunch', 'lunchtime', 'lunchyou', 'lunsford', 'lush', 'luton', 'luv', 'luvd', 'luvnight', 'luvs', 'lux', 'luxury', 'lv', 'lvblefrnd', 'lyf', 'lyfu', 'lying', 'lyk', 'lyric', 'lyricalladie21f', 'm', 'm100', 'm221bp', 'm227xy', 'm26', 'm263uz', 'm39m51', 'm6', 'm8', 'm8s', 'm95', 'ma', 'maaaan', 'maangalyam', 'maat', 'mac', 'macedonia', 'macha', 'machan', 'machiany', 'machine', 'macho', 'mack', 'macleran', 'mad', 'mad1', 'mad2', 'madam', 'madamregret', 'made', 'madodu', 'madoke', 'madstini', 'madthen', 'mag', 'maga', 'magazine', 'maggi', 'magic', 'magical', 'magicalsongsblogspotcom', 'mah', 'mahal', 'mahfuuzmeaning', 'mail', 'mailbox', 'mailed', 'maili', 'main', 'maintain', 'maintaining', 'major', 'make', 'makiing', 'makin', 'making', 'malaria', 'malarky', 'male', 'mall', 'mallika', 'man', 'manage', 'manageable', 'managed', 'management', 'manchester', 'manda', 'mandan', 'mandara', 'mandy', 'maneesha', 'manege', 'mango', 'maniac', 'manky', 'manual', 'many', 'map', 'mapquest', 'maraikara', 'marandratha', 'march', 'maretare', 'margaret', 'margin', 'mark', 'market', 'marketing', 'marking', 'marley', 'marrgeremembr', 'marriage', 'marriageprogram', 'married', 'marry', 'marsms', 'marvel', 'mary', 'masked', 'massage', 'massagetiepos', 'massive', 'master', 'masteriastering', 'mat', 'match', 'matched', 'mate', 'math', 'mathe', 'mathematics', 'mathews', 'matra', 'matric', 'matrix3', 'matter', 'mattermsg', 'matthew', 'matured', 'maturity', 'max', 'max10mins', 'max6month', 'maximize', 'maximum', 'may', 'mayb', 'maybe', 'mb', 'mc', 'mca', 'mcat', 'mcr', 'meal', 'mean', 'meaning', 'meaningful', 'meaningless', 'meant', 'meanwhile', 'meare', 'measure', 'meat', 'meatball', 'mecause', 'med', 'medical', 'medicine', 'medont', 'mee', 'meet', 'meetgreet', 'meetin', 'meeting', 'meetins', 'meetitz', 'mega', 'meh', 'mei', 'meim', 'meive', 'mel', 'melike', 'melle', 'melnite', 'melody', 'melt', 'member', 'membership', 'membershiptake', 'memorable', 'memory', 'men', 'meneed', 'mental', 'mention', 'mentionedtomorrow', 'mentionned', 'mentor', 'menu', 'meok', 'meow', 'meowd', 'merely', 'merememberin', 'meremove', 'merry', 'mesages', 'meshe', 'meso', 'mess', 'message', 'messaged', 'messageit', 'messageits', 'messageno', 'messagepandy', 'messagesim', 'messagesome', 'messagestext', 'messagethanks', 'messaging', 'messed', 'messenger', 'messy', 'met', 'method', 'meummifyingbye', 'mf', 'mfl', 'mg', 'mi', 'mia', 'michael', 'mid', 'middle', 'midnight', 'mids', 'might', 'miiiiiiissssssssss', 'mila', 'mile', 'mileage', 'milk', 'milkdayno', 'miller', 'million', 'miltazindgi', 'min', 'mina', 'minapn', 'mind', 'minded', 'mindi', 'mindsetbelieve', 'mine', 'mineall', 'minecraft', 'mini', 'minimum', 'minnaminunginte', 'minor', 'mins100txtmth', 'minstand', 'minstexts', 'mint', 'minus', 'minute', 'minuts', 'miracle', 'mirror', 'misbehaved', 'miserable', 'misfit', 'mising', 'misplaced', 'miss', 'misscall', 'missed', 'missin', 'missing', 'mission', 'missionary', 'misstake', 'missunderstding', 'missy', 'mist', 'mistake', 'mistakeu', 'misundrstud', 'mite', 'mitsake', 'mittelschmertz', 'miwa', 'mix', 'mj', 'mjzgroup', 'mk17', 'mk45', 'ml', 'mm', 'mmm', 'mmmm', 'mmmmm', 'mmmmmm', 'mmmmmmm', 'mmsto', 'mn', 'mnth', 'mnths', 'mo', 'moan', 'mob', 'mobcudb', 'mobile', 'mobilesdirect', 'mobilesvary', 'mobileupd8', 'mobno', 'mobsicom', 'mobstorequiz10ppm', 'moby', 'mode', 'model', 'modelsony', 'modl', 'module', 'mofo', 'moji', 'mojibiola', 'mokka', 'molestedsomeone', 'mom', 'moment', 'mon', 'monday', 'mondaynxt', 'moneeppolum', 'money', 'moneyas', 'moneyi', 'monkeespeople', 'monkey', 'monkeyaround', 'monl8rsx', 'mono', 'monoc', 'monster', 'month', 'monthly', 'monthlysubscription50pmsg', 'monthnot', 'mood', 'moon', 'moral', 'moraldont', 'moralone', 'morn', 'mornin', 'morning', 'morningtake', 'morphine', 'morrow', 'moseley', 'mostly', 'mother', 'motherfucker', 'motherinlaw', 'motivate', 'motivating', 'motive', 'motor', 'motorola', 'mountain', 'mouse', 'mouth', 'move', 'moved', 'movie', 'moviewat', 'moving', 'moyep', 'mp3', 'mquiz', 'mr', 'mre', 'mrng', 'mrt', 'mrur', 'msg', 'msg150p', 'msging', 'msgrcvd18', 'msgs150p', 'msgsd', 'msgsometext', 'msgsubscription', 'msgticketkioskvalid', 'msgwe', 'msn', 'mssuman', 'mt', 'mtalk', 'mth', 'mths', 'mtnl', 'mu', 'much', 'muchand', 'muchi', 'muchimpede', 'muchxxlove', 'mudyadhu', 'mufti', 'muhommad', 'muht', 'multimedia', 'multiply', 'multis', 'mum', 'mumbai', 'mumhas', 'mummy', 'mumtaz', 'mumtazs', 'mundhe', 'munsters', 'murali', 'murder', 'murdered', 'murderer', 'mush', 'mushy', 'music', 'musical', 'must', 'musta', 'musthu', 'mustprovide', 'mutai', 'mutation', 'muz', 'mw', 'mwahs', 'mycallsu', 'mylife', 'mymoby', 'myparents', 'mys', 'myspace', 'mystery', 'mytonecomenjoy', 'n', 'n8', 'na', 'naal', 'nacho', 'nag', 'nagar', 'nah', 'nahi', 'nail', 'naked', 'nalla', 'nalli', 'name', 'name1', 'name2', 'named', 'namemy', 'nammanna', 'nan', 'nange', 'nanny', 'nap', 'narcotic', 'nasdaq', 'naseeb', 'nasty', 'nat', 'natalie', 'natalja', 'national', 'nationwide', 'nattil', 'natuition', 'natural', 'nature', 'natwest', 'naughty', 'nauseous', 'nav', 'navigate', 'nb', 'nbme', 'nd', 'ne', 'near', 'nearby', 'nearer', 'nearly', 'necesity', 'necessarily', 'necessary', 'necessity', 'neck', 'necklace', 'ned', 'need', 'needa', 'needed', 'neededsalary', 'needing', 'needle', 'needy', 'neekunna', 'neft', 'negative', 'neglect', 'neglet', 'neighbor', 'neither', 'nelson', 'neo69', 'nervous', 'neshanthtel', 'net', 'netcollex', 'netflix', 'nething', 'netno', 'network', 'networking', 'neva', 'nevamindwe', 'never', 'nevering', 'neville', 'nevr', 'new', 'neway', 'newest', 'newport', 'newquaysend', 'news', 'newsby', 'newscaster', 'newshype', 'newspaper', 'next', 'ngage', 'nh', 'ni8', 'ni8swt', 'nic', 'nice', 'nicenicehow', 'nichols', 'nick', 'nickey', 'nicky', 'nig', 'nigeria', 'nigh', 'night', 'nighters', 'nightnight', 'nightnobody', 'nightsexcellent', 'nightswe', 'nightswt', 'nigpun', 'nigro', 'nike', 'nikiyu4net', 'nimbomsons', 'nimya', 'nimyapls', 'ninish', 'nino', 'nipost', 'nit', 'nite', 'nite2', 'nitro', 'nitros', 'nitw', 'nitz', 'njan', 'nmde', 'no', 'no1', 'no165', 'no434', 'no440', 'no762', 'no81151', 'no83355', 'no910', 'nobbing', 'noble', 'nobody', 'nobut', 'noe', 'nofew', 'nohe', 'noi', 'noice', 'noise', 'noisy', 'noits', 'nojst', 'nok', 'nokia', 'nokia150p', 'nokia6600', 'nokia6650', 'nokias', 'noline', 'nolistened2the', 'non', 'noncomittal', 'none', 'nonenowhere', 'nonetheless', 'nookii', 'noon', 'nooooooo', 'noooooooo', 'nope', 'nora', 'norcorp', 'nordstrom', 'norm', 'norm150ptone', 'normal', 'normally', 'north', 'northampton', 'nose', 'nosh', 'nosy', 'note', 'notebook', 'nothin', 'nothing', 'nothis', 'notice', 'notification', 'notified', 'notixiquating', 'nottel', 'nottingham', 'notxtcouk', 'noun', 'novelty', 'november', 'now1', 'now4t', 'nowadays', 'nowadayslot', 'nowcan', 'nowi', 'nownyt', 'nowonion', 'noworriesloanscom', 'nowreply', 'nowsavamobmember', 'nowsend', 'nowsky', 'nowstill', 'nowtcs', 'nowuse', 'nr31', 'nri', 'nt', 'nte', 'ntswt', 'ntt', 'ntwk', 'nu', 'nuclear', 'nudist', 'nuerologist', 'num', 'number', 'numberpls', 'numberrespectful', 'numberso', 'nurse', 'nursery', 'nurungu', 'nusstu', 'nuther', 'nutter', 'nver', 'nvm', 'nvq', 'nw', 'nxt', 'ny', 'nyc', 'nydc', 'nyt', 'nytec2a3lpmsg150p', 'nytho', 'nyusa', 'nz', 'nìte', 'o', 'o2', 'o2coukgames', 'o2fwd', 'oath', 'obedient', 'obese', 'obey', 'objection', 'oblisingately', 'oblivious', 'obviously', 'occasion', 'occupied', 'occupy', 'occur', 'occurs', 'oceand', 'oclock', 'october', 'odalebeku', 'odi', 'ofcourse', 'offc', 'offcampus', 'offdam', 'offense', 'offer', 'offered', 'offering', 'offerthe', 'office', 'officer', 'officestill', 'officethenampet', 'officeunderstand', 'officewhats', 'official', 'officially', 'offline', 'ofice', 'oficegot', 'ofsi', 'often', 'oga', 'ogunrinde', 'oh', 'ohas', 'ohi', 'oi', 'oic', 'oil', 'oja', 'ok', 'okay', 'okcome', 'okday', 'okden', 'okey', 'okie', 'okies', 'okmail', 'okok', 'okors', 'oktake', 'okthenwhats', 'okvarunnathu', 'ola', 'olage', 'olave', 'olayiwolas', 'old', 'ollubut', 'olol', 'olowoyey', 'olympics', 'omg', 'omw', 'onam', 'oncall', 'ondu', 'one', 'onedge', 'oneta', 'oni', 'onionrs', 'onit', 'online', 'onlinewhy', 'onluy', 'only1more', 'onlybettr', 'onlydon', 'onlyfound', 'onto', 'onum', 'onwards', 'onwords', 'ooh', 'oooh', 'oooooh', 'ooooooh', 'oops', 'open', 'opened', 'opener', 'openin', 'opening', 'operate', 'operator', 'opinion', 'opponenter', 'opportunity', 'opportunityall', 'opportunitypls', 'opposed', 'opposite', 'opps', 'opt', 'opted', 'optimistic', 'optin', 'option', 'optout', 'or', 'or2optouthv9d', 'or2stoptxt', 'oral', 'orange', 'orangei', 'orc', 'orchard', 'order', 'ordered', 'ore', 'oredi', 'oreo', 'organise', 'organizer', 'orh', 'orig', 'original', 'orno', 'ortxt', 'oru', 'oscar', 'oso', 'otbox', 'others', 'otherwise', 'othrs', 'otside', 'ou', 'ouch', 'ourbacks', 'oursso', 'out', 'outage', 'outbid', 'outdoors', 'outfit', 'outfor', 'outgoing', 'outhave', 'outif', 'outl8rjust', 'outrageous', 'outreach', 'outside', 'outsider', 'outsomewhere', 'outstanding', 'outta', 'ovarian', 'overa', 'overdid', 'overdose', 'overemphasiseor', 'overheating', 'overtime', 'ovr', 'ovulatewhen', 'ovulation', 'ow', 'owe', 'owed', 'owl', 'owned', 'owns', 'ownyouve', 'owo', 'oxygen', 'oyea', 'oyster', 'oz', 'p', 'pa', 'pace', 'pack', 'package', 'packalso', 'packing', 'padhegm', 'page', 'pai', 'paid', 'pain', 'painful', 'painhope', 'paining', 'painit', 'painting', 'pale', 'palm', 'pan', 'panalambut', 'panasonic', 'pandy', 'panic', 'panicks', 'panren', 'pansy', 'pant', 'panther', 'panty', 'pap', 'papa', 'paper', 'paperwork', 'paracetamol', 'parachute', 'parade', 'paragon', 'paragraph', 'paranoid', 'parantella', 'parchi', 'parco', 'parent', 'parentnot', 'parentsi', 'paris', 'parisfree', 'parish', 'park', 'park6ph', 'parked', 'parkin', 'parking', 'part', 'participate', 'particular', 'particularly', 'partner', 'partnership', 'party', 'paru', 'pas', 'passable', 'passed', 'passion', 'passionate', 'passport', 'passthey', 'password', 'passwordsatmsms', 'past', 'pataistha', 'patent', 'path', 'pathaya', 'patient', 'patrick', 'pattern', 'patty', 'paul', 'pause', 'pay', 'payasam', 'payback', 'payed', 'payed2day', 'payee', 'paying', 'payment', 'payoh', 'paypal', 'pc', 'pdatenow', 'peace', 'peaceful', 'peach', 'peak', 'pear', 'pee', 'peep', 'pehle', 'pei', 'pen', 'pendent', 'pending', 'pendingi', 'penis', 'penny', 'people', 'per', 'percent', 'percentage', 'perf', 'perfect', 'perform', 'performance', 'performed', 'perfume', 'perhaps', 'peril', 'period', 'peripheral', 'permanent', 'permission', 'perpetual', 'persevered', 'persian', 'person', 'person2die', 'personal', 'personality', 'personally', 'personmeet', 'perspective', 'perumbavoor', 'pesky', 'pest', 'pete', 'peteis', 'petexxx', 'petey', 'peteynoi', 'petrol', 'petrolrs', 'pg', 'ph', 'ph08700435505150p', 'ph08704050406', 'pharmacy', 'phasing', 'phd', 'phews', 'phil', 'philosophical', 'philosophy', 'phne', 'phoenix', 'phone', 'phone750', 'phonebook', 'phoned', 'phony', 'photo', 'photoshop', 'php', 'phrase', 'physic', 'piah', 'pic', 'pick', 'picked', 'picking', 'pickle', 'picsfree1', 'picture', 'pictxt', 'pie', 'piece', 'pierre', 'pig', 'piggy', 'pilate', 'pile', 'pillow', 'pimple', 'pimpleseven', 'pin', 'pink', 'pinku', 'pint', 'pisces', 'piss', 'pissed', 'pity', 'pix', 'pixel', 'pizza', 'pl', 'place', 'placed', 'placement', 'placeno', 'plaid', 'plan', 'plane', 'planet', 'planeti', 'planettalkinstantcom', 'planned', 'planning', 'plate', 'platt', 'play', 'played', 'player', 'playerwhy', 'playi', 'playin', 'playing', 'playng', 'plaza', 'pleasant', 'please', 'pleased', 'pleassssssseeeeee', 'pleasure', 'pleasured', 'plenty', 'plm', 'ploughing', 'pls', 'plsi', 'plum', 'plumber', 'plumbingremixed', 'plural', 'plus', 'plyr', 'plz', 'pm', 'pmt', 'po', 'po19', 'pobox', 'pobox1', 'pobox11414tcrw1', 'pobox12n146tf15', 'pobox12n146tf150p', 'pobox202', 'pobox334', 'pobox36504w45wq', 'pobox365o4w45wq', 'pobox45w2tg150p', 'pobox75ldns7', 'pobox84', 'poboxox36504w45wq', 'pocay', 'pocked', 'pocket', 'pocketbabecouk', 'pocy', 'pod', 'poem', 'poet', 'point', 'poker', 'poking', 'pokkiri', 'pole', 'police', 'politician', 'polo', 'poly', 'poly200p', 'poly3', 'polyc', 'polyh', 'polyph', 'polyphonic', 'polys', 'polytruepixringtonesgames', 'pongal', 'pongaldo', 'ponnungale', 'poo', 'pookie', 'pool', 'poop', 'poor', 'poorly', 'poortiyagi', 'pop', 'popcorn', 'popcornjust', 'popped', 'popping', 'porn', 'porridge', 'port', 'portal', 'portege', 'portion', 'pose', 'posh', 'posible', 'position', 'positive', 'possession', 'possessive', 'possessiveness', 'possibility', 'possible', 'possiblehope', 'possibly', 'post', 'postal', 'postcard', 'postcode', 'posted', 'posterode', 'posting', 'postponed', 'potato', 'potential', 'potter', 'pouch', 'pound', 'pounded', 'poured', 'pours', 'pout', 'power', 'powerful', 'poyyarikaturkolathupalayamunjalur', 'ppl', 'pple', 'pple700', 'ppm', 'ppm150', 'ppt150x3normal', 'prabha', 'prabhaim', 'prabu', 'pract', 'practical', 'practice', 'practicing', 'practicum', 'practising', 'praise', 'prakasam', 'prakasamanu', 'prakesh', 'praps', 'prasad', 'prasanth', 'prashanthettans', 'pray', 'prayer', 'praying', 'prayingwill', 'prayrs', 'pre', 'prebook', 'predict', 'predicte', 'predicting', 'prediction', 'predictive', 'prefer', 'preferably', 'prem', 'premaricakindly', 'premier', 'premium', 'prepaid', 'prepare', 'prepared', 'prepayment', 'preponed', 'preschoolcoordinator', 'prescribed', 'prescripiton', 'prescription', 'presence', 'present', 'president', 'presley', 'presnts', 'press', 'pressies', 'pressure', 'prestige', 'pretend', 'pretsorginta', 'pretsovru', 'pretty', 'prevent', 'preview', 'previous', 'previously', 'prey', 'price', 'priceso', 'pride', 'priest', 'prin', 'prince', 'princegn', 'princess', 'print', 'printed', 'printer', 'printing', 'prior', 'priority', 'priscillas', 'privacy', 'private', 'prix', 'priya', 'prize', 'prizeawaiting', 'prizeswith', 'prizeto', 'pro', 'prob', 'probably', 'problem', 'problematic', 'problembut', 'problemfree', 'problemi', 'problms', 'problum', 'probs', 'probthat', 'process', 'processed', 'processexcellent', 'processits', 'processnetworking', 'prod', 'product', 'prof', 'professional', 'professor', 'profile', 'profit', 'program', 'progress', 'project', 'prolly', 'prometazine', 'prominent', 'promise', 'promised', 'promo', 'promoting', 'promotion', 'prompt', 'promptly', 'prone', 'proof', 'proove', 'prop', 'proper', 'properly', 'property', 'propose', 'propsd', 'prospect', 'protect', 'prove', 'proverb', 'provided', 'provider', 'province', 'proze', 'prsn', 'ps3', 'pshewmissing', 'psp', 'psxtra', 'psychiatrist', 'psychic', 'psychologist', 'pt2', 'ptbo', 'pthis', 'pub', 'pubcafe', 'public', 'publish', 'pudunga', 'pull', 'pulling', 'pump', 'punch', 'punish', 'punishment', 'punto', 'puppy', 'pura', 'purchase', 'pure', 'purity', 'purpleu', 'purpose', 'purse', 'push', 'pushbutton', 'pussy', 'put', 'puttin', 'putting', 'puzzeles', 'puzzle', 'px3748', 'q', 'qatar', 'qatarrakhesh', 'qbank', 'qet', 'qi', 'qing', 'qlynnbv', 'quality', 'quarter', 'que', 'queen', 'query', 'ques', 'question', 'questioned', 'questionstd', 'quick', 'quickly', 'quiet', 'quit', 'quite', 'quiteamuzing', 'quitting', 'quiz', 'quizclub', 'quizwin', 'quote', 'quoting', 'r', 'r836', 'racal', 'racing', 'radiator', 'radio', 'raed', 'rael', 'raglan', 'rahul', 'raiden', 'railway', 'rain', 'raining', 'raise', 'raised', 'raj', 'raja', 'rajini', 'rajipls', 'rajitha', 'rajnikant', 'rakhesh', 'raksha', 'rally', 'ralphs', 'ramen', 'ran', 'random', 'randomlly', 'randomly', 'randy', 'rang', 'range', 'ranjith', 'ranju', 'raping', 'rat', 'rate', 'ratetcs', 'rather', 'ratio', 'raviyog', 'rawring', 'ray', 'rayan', 'rayman', 'rcbbattle', 'rcd', 'rct', 'rcv', 'rcvd', 'rd', 'rdy', 'reach', 'reache', 'reached', 'reaching', 'reacting', 'reaction', 'read', 'reader', 'readiness', 'reading', 'ready', 'readyall', 'real', 'real1', 'realise', 'realised', 'realising', 'reality', 'realize', 'realized', 'realizes', 'really', 'reallyneed', 'realy', 'reapply', 'rearrange', 'reason', 'reasonable', 'reassurance', 'reassuring', 'rebel', 'reboot', 'rebooting', 'rebtel', 'rec', 'recd', 'recdthirtyeight', 'receipt', 'receive', 'receivea', 'received', 'receiving', 'recent', 'recently', 'reception', 'recession', 'recharge', 'recharged', 'rechargerakhesh', 'recieve', 'reckon', 'recognise', 'recognises', 'record', 'recorded', 'recorder', 'recount', 'recovery', 'recpt', 'recreation', 'recycling', 'red', 'redeemable', 'redim', 'redred', 'reduce', 'ree', 'ref', 'ref9280114', 'ref9307622', 'reference', 'referin', 'reffering', 'refilled', 'reflection', 'reflex', 'reformat', 'refreshed', 'refund', 'refundedthis', 'refused', 'reg', 'regard', 'regarding', 'register', 'registered', 'registration', 'regret', 'regretted', 'regular', 'rejected', 'related', 'relation', 'relationshipits', 'relative', 'relax', 'relaxing', 'released', 'reliant', 'relieved', 'religiously', 'relocate', 'reltnship', 'rem', 'remain', 'remains', 'remb', 'remember', 'remembered', 'rememberi', 'remembr', 'remembrs', 'remet', 'remind', 'reminded', 'reminder', 'reminding', 'reminds', 'removal', 'remove', 'removed', 'rencontre', 'renewal', 'renewed', 'renewing', 'rent', 'rental', 'renting', 'rentl', 'repair', 'repeat', 'repeating', 'repent', 'replace', 'replacement', 'replacing', 'replied', 'reply', 'replybe', 'replying', 'replys150', 'report', 'reppurcussions', 'representative', 'republic', 'request', 'require', 'required', 'requirement', 'requires', 'reschedule', 'research', 'resend', 'resent', 'reservation', 'reserve', 'reserved', 'reset', 'residency', 'resizing', 'reslove', 'resolution', 'resolved', 'resort', 'respect', 'respectful', 'responcewhat', 'respond', 'responding', 'response', 'responsibility', 'responsible', 'rest', 'restaurant', 'restock', 'restocked', 'restrict', 'restriction', 'restuwud', 'restwish', 'resub', 'resubbing', 'resubmit', 'result', 'resume', 'resuming', 'retard', 'retired', 'retrieve', 'return', 'returned', 'returning', 'reunion', 'reveal', 'revealed', 'revealing', 'reverse', 'review', 'revision', 'reward', 'rewarding', 'rg21', 'rgds', 'rgent', 'rhode', 'rhythm', 'rice', 'rich', 'riddance', 'ridden', 'ride', 'right', 'rightio', 'rightly', 'riley', 'rimac', 'ring', 'ringing', 'ringsreturn', 'ringtone', 'ringtonefrom', 'ringtoneget', 'ringtoneking', 'ringtones', 'rinu', 'rip', 'ripped', 'rise', 'risk', 'rite', 'ritten', 'river', 'ro', 'road', 'roadsrvx', 'roast', 'rob', 'robinson', 'robs', 'rock', 'rocking', 'rodds1', 'rodger', 'rofl', 'roger', 'role', 'rolled', 'roller', 'romantic', 'romcapspam', 'ron', 'room', 'roomate', 'roommate', 'rose', 'rough', 'round', 'rounderso', 'route', 'row', 'roww1j6hl', 'roww1jhl', 'royal', 'rp176781', 'rpl', 'rply', 'rr', 'rreveal', 'rs5', 'rsi', 'rstm', 'rtking', 'rtm', 'rto', 'ru', 'rub', 'rubber', 'rude', 'rudi', 'rugby', 'ruin', 'ruining', 'rule', 'rum', 'rumbling', 'rummer', 'rumour', 'run', 'running', 'runninglets', 'rupaul', 'rush', 'rushing', 'rv', 'ryan', 'ryans', 'ryder', 's3xy', 's8', 's89', 'sac', 'sachin', 'sachinjust', 'sack', 'sacked', 'sacrifice', 'sad', 'sae', 'saeed', 'safe', 'safely', 'safety', 'sagamu', 'saibaba', 'said', 'saidif', 'sake', 'salad', 'salam', 'salary', 'sale', 'salesman', 'salespee', 'sall', 'salmon', 'salon', 'salt', 'sam', 'samachara', 'samantha', 'sambarlife', 'sameso', 'samus', 'sandiago', 'sane', 'sang', 'sankranti', 'santa', 'santha', 'sao', 'sapna', 'sar', 'sara', 'sarasota', 'sarcasm', 'sarcastic', 'saristar', 'sariyag', 'sary', 'sashimi', 'sat', 'satanic', 'sathy', 'sathya', 'satisfied', 'satisfy', 'satjust', 'satlove', 'satsgettin', 'satsound', 'satthen', 'saturday', 'satü', 'saucy', 'sausagelove', 'savamob', 'save', 'saved', 'saving', 'saw', 'say', 'sayask', 'sayhey', 'sayin', 'saying', 'sayy', 'sbut', 'sc', 'scallies', 'scammer', 'scarcasim', 'scared', 'scary', 'scenario', 'scenery', 'sch', 'schedule', 'school', 'science', 'scold', 'scool', 'scorable', 'score', 'scoring', 'scotch', 'scotland', 'scotsman', 'scouse', 'scraped', 'scrappy', 'scratch', 'scratching', 'scream', 'screamed', 'screaming', 'screen', 'screwd', 'scrounge', 'scrumptious', 'sculpture', 'sd', 'sday', 'sdryb8i', 'se', 'sea', 'search', 'searching', 'season', 'seat', 'sec', 'second', 'secondary', 'secret', 'secretary', 'secretly', 'section', 'secure', 'secured', 'sed', 'see', 'seed', 'seeing', 'seeker', 'seeking', 'seem', 'seemed', 'seems', 'seen', 'seeno', 'sef', 'seh', 'sehwag', 'seing', 'select', 'selected', 'selection', 'self', 'selfindependence', 'selfish', 'selflessness', 'sell', 'selling', 'sem', 'semester', 'semi', 'semiobscure', 'sen', 'send', 'sender', 'sendername', 'sending', 'sends', 'senor', 'senrddnot', 'sense', 'sensesrespect', 'sensible', 'sensitive', 'sent', 'sentdate', 'sentence', 'senthil', 'senthilhsbc', 'seperated鈥', 'sept', 'september', 'serena', 'series', 'serious', 'seriously', 'served', 'server', 'service', 'serving', 'servs', 'set', 'setting', 'settle', 'settled', 'settling', 'seven', 'seventeen', 'several', 'sex', 'sexiest', 'sextextukcom', 'sexual', 'sexy', 'sexychat', 'sez', 'sf', 'sfine', 'sfirst', 'sfrom', 'sh', 'sha', 'shade', 'shadow', 'shag', 'shagged', 'shah', 'shahjahan', 'shahjahans', 'shakara', 'shake', 'shakespeare', 'shaking', 'shall', 'shame', 'shampain', 'shangela', 'shanghai', 'shanilrakhesh', 'shant', 'shaping', 'share', 'shared', 'sharing', 'shattered', 'shaved', 'shb', 'shd', 'sheet', 'sheffield', 'shelf', 'shell', 'sherawat', 'shes', 'shesil', 'shexy', 'shhhhh', 'shifad', 'shijas', 'shijutta', 'shinco', 'shindig', 'shining', 'shiny', 'ship', 'shipped', 'shipping', 'shirt', 'shit', 'shite', 'shitin', 'shitjustfound', 'shitload', 'shitstorm', 'shivratri', 'shjas', 'shld', 'shldxxxx', 'shock', 'shocking', 'shoe', 'shola', 'shoot', 'shop', 'shoppin', 'shopping', 'shopthe', 'shopwe', 'shoranur', 'shore', 'shorethe', 'short', 'shortage', 'shortcode', 'shorter', 'shortly', 'shot', 'shoul', 'shoulder', 'shouldnt', 'shouted', 'shouting', 'shove', 'shoving', 'show', 'showed', 'shower', 'showered', 'showing', 'showr', 'showroomscity', 'shracomorsglsuplt10', 'shrek', 'shrink', 'shrub', 'shu', 'shud', 'shudvetold', 'shuhui', 'shun', 'shut', 'shy', 'si', 'sian', 'sib', 'sic', 'sick', 'sickness', 'sicomo', 'side', 'sif', 'sigh', 'sight', 'sign', 'signal', 'significance', 'significant', 'signin', 'signing', 'siguviri', 'silence', 'silent', 'silently', 'silly', 'silver', 'sim', 'simonwatson5120', 'simple', 'simpler', 'simply', 'simpson', 'simulate', 'since', 'sinco', 'sindu', 'sing', 'singapore', 'singing', 'single', 'sink', 'sip', 'sipix', 'sir', 'siri', 'sirjii', 'sirsalam', 'sister', 'sit', 'site', 'sitll', 'sitter', 'sittin', 'sitting', 'situation', 'siva', 'sivatats', 'six', 'size', 'sized', 'sk3', 'sk38xh', 'skallis', 'skateboarding', 'skilgme', 'skill', 'skillgame', 'skillgame1winaweek', 'skin', 'skinny', 'skint', 'skip', 'skirt', 'sky', 'skye', 'skype', 'skyped', 'skyving', 'slaaaaave', 'slacking', 'slap', 'slave', 'sleep', 'sleepin', 'sleeping', 'sleepingand', 'sleepingwith', 'sleepsweet', 'sleepwellamptake', 'sleepy', 'slept', 'slice', 'slide', 'sliding', 'slightly', 'slip', 'slipper', 'slippery', 'slo', 'slo4msgs', 'slob', 'slot', 'slovely', 'slow', 'slower', 'slowing', 'slowly', 'slurp', 'sm', 'smack', 'small', 'smaller', 'smart', 'smartcall', 'smarter', 'smartthough', 'smash', 'smashed', 'smear', 'smell', 'smeone', 'smidgin', 'smile', 'smiled', 'smiley', 'smiling', 'smith', 'smithswitch', 'smoke', 'smoked', 'smokin', 'smoking', 'smoothly', 'sms08718727870', 'smsd', 'smsing', 'smsservices', 'smsshsexnetun', 'smth', 'sn', 'snake', 'snap', 'snappy', 'snatch', 'snd', 'sneham', 'snickering', 'sno', 'snogs', 'snoringthey', 'snow', 'snowball', 'snowboarding', 'snowman', 'snuggle', 'so', 'soany', 'soc', 'sochte', 'social', 'sofa', 'soft', 'software', 'soil', 'soiree', 'sol', 'soladha', 'sold', 'solihull', 'solve', 'solved', 'some1', 'somebody', 'someday', 'someone', 'someonethat', 'someonone', 'someplace', 'somerset', 'somethin', 'something', 'somethings', 'sometime', 'sometimerakheshvisitor', 'sometimes', 'sometme', 'somewhat', 'somewhere', 'somewheresomeone', 'somewhr', 'somone', 'somtimes', 'sonathaya', 'sonetimes', 'song', 'sonot', 'sony', 'sonyericsson', 'soo', 'soon', 'soonc', 'sooner', 'soonlots', 'soonxxx', 'sooo', 'soooo', 'sooooo', 'sophas', 'sore', 'sorrow', 'sorrowsi', 'sorry', 'sorryi', 'sorryin', 'sort', 'sorta', 'sorted', 'sortedbut', 'sorting', 'sory', 'sorydarealyfrm', 'soso', 'soul', 'sound', 'sounding', 'soundtrack', 'soup', 'source', 'south', 'southern', 'souveniers', 'soz', 'sp', 'space', 'spacebucks', 'spageddies', 'spain', 'spam', 'spanish', 'spare', 'spark', 'sparkling', 'spatula', 'speak', 'speaking', 'spec', 'special', 'specialcall', 'speciale', 'specialisation', 'specialise', 'specially', 'specific', 'specify', 'speechless', 'speed', 'speedchat', 'speeding', 'speling', 'spell', 'spelled', 'spelling', 'spend', 'spending', 'spent', 'spice', 'spider', 'spiderman', 'spiffing', 'spile', 'spin', 'spinout', 'spiral', 'spirit', 'spiritual', 'spjanuary', 'spk', 'spl', 'splash', 'splashmobile', 'splat', 'splendid', 'split', 'splleing', 'splwat', 'spoil', 'spoiled', 'spoilt', 'spoke', 'spoken', 'sponsor', 'spontaneously', 'spook', 'spoon', 'sporadically', 'sport', 'sportsx', 'spose', 'spot', 'spotty', 'spouse', 'sppok', 'spreadsheet', 'spree', 'spring', 'sprint', 'sprwm', 'sptv', 'sptyrone', 'spunout', 'spy', 'sq825', 'squatting', 'squeeeeeze', 'squeezed', 'squid', 'squishy', 'sr', 'srsly', 'srt', 'sry', 'ssi', 'ssindia', 'ssnervous', 'st', 'stability', 'stable', 'stadium', 'staff', 'staffsciencenusedusgphyhcmkteachingpc1323', 'stage', 'stagwood', 'stair', 'stalk', 'stalking', 'stamp', 'stamped', 'stand', 'standard', 'standing', 'stapati', 'star', 'starer', 'staring', 'starring', 'starshine', 'start', 'started', 'startedindia', 'starti', 'starting', 'starve', 'starving', 'starwars3', 'stash', 'stated', 'statement', 'station', 'status', 'stay', 'stayed', 'stayin', 'staying', 'std', 'stdtxtrate', 'steak', 'steal', 'stealing', 'steam', 'steamboat', 'steed', 'steering', 'step', 'stereo', 'stereophonics', 'sterling', 'sterm', 'steve', 'stevelike', 'stewartsize', 'steyn', 'sth', 'sthis', 'stick', 'sticky', 'stifled', 'stil', 'still', 'stillmaybe', 'stink', 'stitch', 'stock', 'stocked', 'stockport', 'stolen', 'stomach', 'stomp', 'stone', 'stoner', 'stool', 'stop', 'stop2', 'stop2stop', 'stopbcm', 'stopcost', 'stopcs', 'stopped', 'stoptxt', 'stoptxtstop', 'store', 'storelike', 'storming', 'story', 'str', 'str8', 'straight', 'strain', 'strange', 'stranger', 'strangersaw', 'stream', 'street', 'streetshall', 'stress', 'stressed', 'stressful', 'stressfull', 'stretch', 'strewn', 'strict', 'strike', 'string', 'strip', 'stripe', 'stroke', 'strong', 'strongbuy', 'strongly', 'strt', 'strtd', 'struggling', 'sts', 'stu', 'stubborn', 'stuck', 'studdying', 'student', 'studentfinancial', 'studentsthis', 'studio', 'study', 'studying', 'studyn', 'stuff', 'stuff42moro', 'stuffed', 'stuffing', 'stuffleaving', 'stuffwhy', 'stunning', 'stupid', 'stupidits', 'style', 'styling', 'stylish', 'stylist', 'sub', 'subject', 'subletting', 'submitted', 'submitting', 'subpoly', 'subscribe', 'subscribe6gbpmnth', 'subscribed', 'subscriber', 'subscription', 'subscriptn3gbpwk', 'subscrition', 'subsequent', 'subtoitles', 'success', 'successful', 'successfully', 'suck', 'sucker', 'sudden', 'suddenly', 'sudn', 'sue', 'suffer', 'suffering', 'suffers', 'sufficient', 'sugababes', 'suganya', 'sugar', 'sugardad', 'suggest', 'suggestion', 'suit', 'suite', 'suitemates', 'sullivan', 'sum', 'sum1', 'sumfing', 'summer', 'summon', 'sumthin', 'sumthinxx', 'sun', 'sun0819', 'sunday', 'sundayish', 'sunlight', 'sunny', 'sunoco', 'sunroof', 'sunscreen', 'sunshine', 'suntec', 'sup', 'super', 'superb', 'superior', 'supervisor', 'suply', 'supose', 'supplier', 'supply', 'support', 'supportproviding', 'supportvery', 'suppose', 'supposed', 'supreme', 'suprman', 'sura', 'sure', 'surely', 'surf', 'surfing', 'surgical', 'surly', 'surname', 'surprise', 'surprised', 'surrender', 'surrounded', 'survey', 'surya', 'sutra', 'sux', 'suzy', 'svc', 'sw7', 'sw73ss', 'swalpa', 'swan', 'swann', 'swap', 'swashbuckling', 'swat', 'swatch', 'sway', 'swayze', 'swear', 'sweater', 'sweatter', 'sweet', 'sweetest', 'sweetheart', 'sweetie', 'swell', 'swhrt', 'swimming', 'swimsuit', 'swing', 'swiss', 'switch', 'swollen', 'swoop', 'swt', 'swtheart', 'syd', 'syllabus', 'symbol', 'sympathetic', 'symptom', 'synced', 'syria', 'syrup', 'system', 't', 't91', 'ta', 'table', 'tablet', 'tackle', 'taco', 'tactful', 'tactless', 'tadaaaaa', 'tag', 'tagged', 'tahan', 'tai', 'tait', 'taj', 'taka', 'take', 'takecare', 'taken', 'takenonly', 'takin', 'taking', 'talent', 'talk', 'talkbut', 'talked', 'talkin', 'talking', 'tall', 'tallahassee', 'tallent', 'tamilnaduthen', 'tampa', 'tank', 'tantrum', 'tap', 'tape', 'tariff', 'tarot', 'tarpon', 'taste', 'tasts', 'tat', 'tata', 'tattoo', 'tau', 'taught', 'taunton', 'tax', 'taxi', 'taxless', 'taxt', 'taylor', 'tayseertissco', 'tb', 'tbspersolvo', 'tc', 'tcllc', 'tcrw1', 'tcsbcm4235wc1n3xx', 'tcsc', 'tcsstop', 'tddnewsletteremc1couk', 'tea', 'teach', 'teacher', 'teaching', 'teacoffee', 'team', 'tear', 'tease', 'teasing', 'tech', 'technical', 'technology', 'tee', 'teenager', 'teeth', 'teethif', 'teethis', 'teju', 'tel', 'telephone', 'telephonic', 'teletext', 'tell', 'telling', 'tellmiss', 'telly', 'telphone', 'telugu', 'teluguthts', 'temales', 'temp', 'temper', 'temple', 'ten', 'tenant', 'tendency', 'tenerife', 'tensed', 'tension', 'teresa', 'term', 'terminatedwe', 'termsapply', 'terrible', 'terrific', 'terrorist', 'terry', 'tescos', 'tessypls', 'test', 'testing', 'tex', 'texas', 'texd', 'text', 'text82228', 'textand', 'textbook', 'textbuddy', 'textcomp', 'texted', 'textin', 'texting', 'textoperator', 'textpod', 'textsweekend', 'tgxxrz', 'th', 'thandiyachu', 'thangam', 'thangamits', 'thank', 'thanks', 'thanks2', 'thanksgiving', 'thanku', 'thankyou', 'thanx', 'thanx4', 'thanxxx', 'thasa', 'that2worzels', 'thatd', 'thatdont', 'thati', 'thatll', 'thatmum', 'thatnow', 'thats', 'the4th', 'theacusations', 'theater', 'theatre', 'thecd', 'thedailydraw', 'thekingshead', 'theme', 'themed', 'themob', 'themobhit', 'themobyo', 'themp', 'thenwill', 'theoretically', 'theory', 'theplace', 'thepub', 'there', 'theredo', 'theregoodnight', 'therell', 'therere', 'therexx', 'thesedays', 'theseyours', 'thesis', 'thesmszonecom', 'thewend', 'theyll', 'theyre', 'thgt', 'thia', 'thin', 'thing', 'thinghow', 'think', 'thinked', 'thinkin', 'thinking', 'thinkthis', 'thinl', 'thirunelvali', 'thisdon', 'thk', 'thkin', 'thm', 'thnk', 'thnq', 'thnx', 'tho', 'thoso', 'thot', 'thou', 'though', 'thought', 'thoughtsi', 'thousand', 'thout', 'thread', 'threat', 'three', 'threw', 'thriller', 'throat', 'throw', 'throwin', 'throwing', 'thrown', 'thru', 'thrurespect', 'tht', 'thts', 'thuglyfe', 'thurs', 'thursday', 'thus', 'thx', 'thy', 'ti', 'tick', 'ticket', 'tiempo', 'tiger', 'tight', 'tightly', 'tigress', 'tihs', 'tiime', 'til', 'till', 'tim', 'time', 'timedhoni', 'timegud', 'timehope', 'timeslil', 'timeyou', 'timeyour', 'timi', 'timin', 'timing', 'tiny', 'tip', 'tired', 'tiring', 'tirunelvai', 'tirunelvali', 'tirupur', 'tisscotayseer', 'title', 'titleso', 'tiwary', 'tix', 'tiz', 'tke', 'tkts', 'tlk', 'tm', 'tming', 'tmobile', 'tmorrowpls', 'tmr', 'tmrw', 'tmw', 'tnc', 'tncs', 'toa', 'toaday', 'tobacco', 'tobed', 'tocallshall', 'toclaim', 'today', 'todaybut', 'todaydo', 'todayfrom', 'todaygood', 'todayhe', 'todaysundaysunday', 'todo', 'tog', 'together', 'tohar', 'toilet', 'tok', 'token', 'toking', 'tol', 'told', 'toldshe', 'toledo', 'tolerance', 'toleratbcs', 'toll', 'tom', 'tomarrow', 'tome', 'tomeandsaidthis', 'tomo', 'tomocant', 'tomorro', 'tomorrow', 'tomorrowcall', 'tomorrowtoday', 'tomorw', 'ton', 'tone', 'tones2u', 'tones2youcouk', 'tonesreply', 'tonexs', 'tonght', 'tongued', 'tonight', 'tonite', 'tonitebusy', 'tonitethings', 'tonsolitusaswell', 'took', 'tookplace', 'tool', 'toolets', 'tooo', 'toopray', 'toot', 'toothpaste', 'tootsie', 'top', 'topic', 'topicsorry', 'toplay', 'topped', 'toppoly', 'tor', 'torch', 'torrent', 'tortilla', 'torture', 'tosend', 'toshiba', 'toss', 'tot', 'total', 'totally', 'tote', 'touch', 'touched', 'tough', 'toughest', 'tour', 'towards', 'town', 'towncud', 'towndontmatter', 'toxic', 'toyota', 'tp', 'track', 'trackmarque', 'trade', 'tradition', 'traffic', 'train', 'trained', 'training', 'trainners', 'tram', 'tranquility', 'transaction', 'transcribing', 'transfer', 'transferacc', 'transfered', 'transferred', 'transfr', 'transfred', 'transport', 'trash', 'trauma', 'trav', 'travel', 'traveling', 'travelled', 'travelling', 'treacle', 'treadmill', 'treasure', 'treat', 'treated', 'treatin', 'treble', 'tree', 'trek', 'trend', 'trial', 'tried', 'trip', 'triple', 'trishul', 'triumphed', 'tron', 'trouble', 'troubleshooting', 'trouser', 'truble', 'truck', 'true', 'truekdo', 'truffle', 'truly', 'truro', 'trust', 'trusting', 'truth', 'truthful', 'try', 'tryin', 'trying', 'trywales', 'tsandcs', 'tscs', 'tscs08714740323', 'tscs087147403231winawkage16', 'tshirt', 'tsunami', 'tt', 'ttyl', 'tue', 'tues', 'tuesday', 'tui', 'tuition', 'tul', 'tulip', 'tunde', 'tune', 'tunji', 'turkey', 'turn', 'turned', 'turning', 'tuth', 'tv', 'tvhe', 'tvlol', 'twat', 'twelve', 'twenty', 'twice', 'twiggs', 'twilight', 'twin', 'twinks', 'twittering', 'two', 'tx', 'txt', 'txt250com', 'txtauction', 'txtauctiontxt', 'txtin', 'txting', 'txtjourney', 'txtno', 'txts', 'txtx', 'tyler', 'type', 'typelyk', 'typical', 'u', 'u2moro', 'u4', 'uawakefeellikw', 'ubandu', 'ubi', 'ucall', 'ufind', 'ugadi', 'ugh', 'ugos', 'uh', 'uhhhhrmm', 'uif', 'uin', 'ujhhhhhhh', 'uk', 'ukmobiledate', 'ukp2000', 'ull', 'ultimate', 'ultimately', 'ultimatum', 'um', 'umma', 'ummmawill', 'ummmmmaah', 'un', 'unable', 'unbelievable', 'unclaimed', 'uncle', 'uncomfortable', 'unconditionally', 'unconscious', 'unconsciously', 'unconvinced', 'uncountable', 'uncut', 'underdtand', 'understand', 'understanding', 'understood', 'underwear', 'undrstnd', 'undrstndng', 'unemployed', 'uneventful', 'unfolds', 'unfortunately', 'unfortuntly', 'unhappiness', 'unhappy', 'uni', 'unicef', 'uniform', 'unintentional', 'unintentionally', 'unique', 'uniquei', 'unit', 'united', 'univ', 'university', 'unknown', 'unless', 'unlike', 'unlimited', 'unmits', 'unnecessarily', 'unni', 'unrecognized', 'unredeemed', 'unsecured', 'unsold', 'unsoldmike', 'unsoldnow', 'unspoken', 'unsub', 'unsubscribe', 'unsubscribed', 'unusual', 'uothrwise', 'up4', 'upcharge', 'upd8', 'updat', 'update', 'updatenow', 'upgrade', 'upgrading', 'upgrdcentre', 'uphad', 'upload', 'uploaded', 'uploads', 'upnot', 'upon', 'upping', 'ups', 'upset', 'upseti', 'upsetits', 'upstairs', 'upto', 'uptown', 'upyeh', 'ur', 'ure', 'urfeeling', 'urgent', 'urgentbut', 'urgentlyits', 'urgh', 'urgnt', 'urgoin', 'urgran', 'urination', 'url', 'urmomi', 'urn', 'urself', 'usb', 'usc', 'uscedu', 'use', 'used', 'useful', 'useless', 'user', 'usf', 'usget', 'usher', 'using', 'uslet', 'usmle', 'usno', 'uso', 'usps', 'usual', 'usualiam', 'usually', 'uterus', 'utter', 'uttered', 'uu', 'uup', 'uv', 'uve', 'uwana', 'uwant', 'uworld', 'uxxxx', 'v', 'vaazhthukkal', 'vague', 'vaguely', 'vai', 'vale', 'valentine', 'valid', 'valid12hrs', 'valuable', 'value', 'valued', 'valuemorning', 'valuing', 'varaya', 'vargu', 'various', 'varma', 'vary', 'vasai', 'vat', 'vatian', 'vava', 'vco', 'vday', 'vega', 'vegetable', 'veggie', 'vehicle', 'velachery', 'velly', 'velusamy', 'venaam', 'venugopal', 'verified', 'verify', 'verifying', 'version', 'versus', 'vettam', 'vewy', 'via', 'vibrant', 'vibrate', 'vibrator', 'vic', 'victor', 'victoria', 'vid', 'video', 'videochat', 'videophones', 'videopic', 'videosound', 'videosounds2', 'vidnot', 'view', 'vijay', 'vijaykanth', 'vikky', 'vikkyim', 'vilikkamt', 'vill', 'villa', 'village', 'vinobanagar', 'violated', 'violence', 'violet', 'vip', 'virgil', 'virgin', 'virtual', 'visa', 'visionsmscom', 'visit', 'visiting', 'visitneed', 'visitor', 'vital', 'vitamin', 'viva', 'vivek', 'vivekanand', 'viveki', 'vl', 'vldo', 'voda', 'vodafone', 'vodka', 'voice', 'voicemail', 'voila', 'volcano', 'vomit', 'vomitin', 'vomiting', 'vote', 'voted', 'voucher', 'voucherstext', 'vpist', 'vpod', 'vry', 'vth', 'vtired', 'vu', 'w', 'w111wx', 'w14rg', 'w1a', 'w1j', 'w1t1jy', 'w4', 'w45wq', 'w8in', 'wa', 'wa14', 'waaaat', 'wad', 'wadebridgei', 'wah', 'wahala', 'wahay', 'waheed', 'waheeda', 'wahleykkumsharing', 'waht', 'wait', 'waited', 'waiti', 'waitin', 'waiting', 'waitshould', 'waitu', 'wake', 'waking', 'wale', 'waliking', 'walk', 'walkabout', 'walked', 'walkin', 'walking', 'wall', 'wallet', 'wallpaper', 'wallpaperall', 'walmart', 'walsall', 'wamma', 'wan', 'wan2', 'wana', 'wanna', 'wannatell', 'want', 'want2come', 'wanted', 'wanting', 'wap', 'waqt', 'warm', 'warming', 'warned', 'warner', 'warning', 'warranty', 'warwick', 'washob', 'wasnt', 'waste', 'wasted', 'wasting', 'wat', 'watch', 'watched', 'watchin', 'watching', 'watchng', 'water', 'watever', 'watevr', 'wating', 'watll', 'watrdayno', 'wats', 'watt', 'wave', 'way', 'way2smscom', 'waythis', 'wc', 'wc1n', 'wc1n3xx', 'weak', 'weakness', 'weapon', 'wear', 'wearing', 'weasel', 'weaseling', 'weather', 'web', 'web2mobile', 'webadres', 'webeburnin', 'webpage', 'website', 'websitenow', 'wed', 'weddin', 'wedding', 'weddingfriend', 'wedlunch', 'wednesday', 'wee', 'weed', 'weeddeficient', 'week', 'weekday', 'weekend', 'weekly', 'weekstop', 'weigh', 'weighed', 'weight', 'weighthaha', 'weightloss', 'weird', 'weirdest', 'weirdo', 'weirdy', 'weiyi', 'welcome', 'well', 'wellda', 'welli', 'welltake', 'wellyou', 'welp', 'wen', 'wendy', 'wenever', 'went', 'wenwecan', 'wer', 'wereare', 'werebored', 'werent', 'werethe', 'wesley', 'west', 'western', 'westlife', 'westonzoyland', 'westshore', 'wet', 'wetherspoons', 'weve', 'wewa', 'whassup', 'whatever', 'whats', 'whatsup', 'wheat', 'wheel', 'wheellock', 'whenever', 'whenevr', 'whenre', 'whens', 'whenwhere', 'whereare', 'wherebtw', 'wheres', 'wherever', 'wherevr', 'wherres', 'whether', 'whileamp', 'whilltake', 'whisper', 'white', 'whn', 'who', 'whole', 'whore', 'whose', 'whr', 'wi', 'wicked', 'wicket', 'wicklow', 'wid', 'widelivecomindex', 'wif', 'wife', 'wifedont', 'wifehow', 'wifi', 'wihtuot', 'wikipediacom', 'wil', 'wild', 'wildest', 'wildlife', 'willing', 'willpower', 'win', 'win150ppmx3age16', 'wind', 'window', 'windy', 'wine', 'wined', 'wing', 'wining', 'winner', 'winnersclub', 'winning', 'winterstone', 'wipe', 'wipro', 'wiproyou', 'wire3net', 'wisdom', 'wise', 'wish', 'wisheds', 'wishin', 'wishing', 'wishlist', 'wiskey', 'wit', 'withdraw', 'wither', 'within', 'without', 'witin', 'witot', 'witout', 'wiv', 'wizzle', 'wk', 'wkend', 'wkent150p16', 'wkg', 'wkly', 'wknd', 'wks', 'wktxt', 'wlcome', 'wld', 'wmlid1b6a5ecef91ff937819firsttrue180430jul05', 'wmlid820554ad0a1705572711firsttrue', 'wn', 'wnevr', 'wnt', 'wo', 'woah', 'wocay', 'woke', 'woken', 'woman', 'womdarfull', 'wondar', 'wondarfull', 'wonder', 'wonderful', 'wondering', 'wont', 'woo', 'wood', 'woodland', 'woohoo', 'woot', 'woould', 'woozles', 'worc', 'word', 'wordcollect', 'wordnot', 'wordsevry', 'wordstart', 'work', 'workage', 'workand', 'workin', 'working', 'worklove', 'workout', 'world', 'worldgnun', 'worldmay', 'worldvery', 'worm', 'worried', 'worriedx', 'worry', 'worryc', 'worrying', 'worryuse', 'worse', 'worst', 'worth', 'worthless', 'wot', 'wotu', 'wotz', 'woul', 'would', 'woulda', 'wouldnt', 'wound', 'wow', 'wquestion', 'wrc', 'wrecked', 'wrench', 'wrenching', 'wright', 'write', 'writhing', 'wrk', 'wrki', 'wrkin', 'wrking', 'wrks', 'wrld', 'wrnog', 'wrong', 'wrongly', 'wrongtake', 'wrote', 'wt', 'wtc', 'wtf', 'wth', 'wthout', 'wud', 'wudnt', 'wuld', 'wuldnt', 'wun', 'www07781482378com', 'www4tcbiz', 'www80488biz', 'wwwapplausestorecom', 'wwwareyouuniquecouk', 'wwwasjesuscom', 'wwwb4utelecom', 'wwwbridalpetticoatdreamscouk', 'wwwcashbincouk', 'wwwclubmobycom', 'wwwclubzedcouk', 'wwwcnupdatescomnewsletter', 'wwwcomuknet', 'wwwdbuknet', 'wwwflirtpartyus', 'wwwfullonsmscom', 'wwwgambtv', 'wwwgetzedcouk', 'wwwidewcom', 'wwwldewcom', 'wwwldewcom1win150ppmx3age16', 'wwwldewcom1win150ppmx3age16subscription', 'wwwldewcomsubs161win150ppmx3', 'wwwmovietriviatv', 'wwwmusictrivianet', 'wwworangecoukow', 'wwwphb1com', 'wwwregalportfoliocouk', 'wwwringtonekingcouk', 'wwwringtonescouk', 'wwwrtfsphostingcom', 'wwwsantacallingcom', 'wwwshortbreaksorguk', 'wwwsmsacubootydelious', 'wwwsmsacugoldviking', 'wwwsmsacuhmmross', 'wwwsmsacunat27081980', 'wwwsmsacunatalie2k9', 'wwwsmsconet', 'wwwtcbiz', 'wwwtelediscountcouk', 'wwwtextcompcom', 'wwwtextpodnet', 'wwwtklscom', 'wwwtxt2shopcom', 'wwwtxt43com', 'wwwtxt82228com', 'wwwtxttowincouk', 'wwwwin82050couk', 'wylie', 'x', 'x2', 'x29', 'x49', 'x49your', 'xafter', 'xam', 'xavier', 'xchat', 'xclusiveclubsaisai', 'xin', 'xins', 'xmas', 'xnet', 'xoxo', 'xt', 'xuhui', 'xx', 'xxsp', 'xxuk', 'xxx', 'xxxmobilemovieclub', 'xxxmobilemovieclubcomnqjkgighjjgcbl', 'xxxx', 'xxxxx', 'xxxxxx', 'xxxxxxx', 'xxxxxxxx', 'xxxxxxxxxxxxxx', 'xy', 'y87', 'ya', 'yagoing', 'yah', 'yahoo', 'yalrigu', 'yalru', 'yam', 'yan', 'yar', 'yard', 'yavnt', 'yaxx', 'yaxxx', 'yay', 'yck', 'yday', 'yeah', 'yeahand', 'year', 'yeesh', 'yeh', 'yelling', 'yellow', 'yelowi', 'yen', 'yeovil', 'yep', 'yer', 'yes', 'yes165', 'yes434', 'yes440', 'yes762', 'yes910', 'yesbut', 'yesfrom', 'yesgauti', 'yeshe', 'yeshere', 'yesim', 'yesmum', 'yessura', 'yest', 'yesterday', 'yet', 'yettys', 'yetunde', 'yi', 'yifeng', 'yijue', 'yijuehotmailcom', 'ym', 'ymca', 'yo', 'yoga', 'yogasana', 'yohere', 'yor', 'yorge', 'youany', 'youcarlos', 'youclean', 'youd', 'youdearwith', 'youdoing', 'youhow', 'youi', 'youkwhere', 'yould', 'youll', 'youmoney', 'youmy', 'young', 'younger', 'youphone', 'youre', 'yourinclusive', 'yourjob', 'youso', 'youthats', 'youto', 'youuuuu', 'youve', 'youwanna', 'youwhen', 'yoville', 'yowifes', 'yoyyooo', 'yr', 'ystrdayice', 'yummmm', 'yummy', 'yun', 'yunny', 'yuo', 'yuou', 'yup', 'yupz', 'ywhere', 'z', 'zac', 'zahers', 'zealand', 'zebra', 'zed', 'zero', 'zhong', 'zindgi', 'zoe', 'zogtorius', 'zoom', 'zouk', 'zyada', 'é', 'ü', 'üll', '〨ud']\n"
     ]
    }
   ],
   "source": [
    "print(count_vect.get_feature_names())\n"
   ]
  },
  {
   "cell_type": "code",
   "execution_count": 16,
   "metadata": {},
   "outputs": [
    {
     "name": "stdout",
     "output_type": "stream",
     "text": [
      "  (0, 3625)\t1\n",
      "  (0, 4475)\t1\n",
      "  (0, 6100)\t1\n",
      "  (0, 2413)\t1\n",
      "  (0, 1401)\t1\n",
      "  (0, 1842)\t1\n",
      "  (0, 5383)\t1\n",
      "  (0, 3716)\t1\n",
      "  (0, 8664)\t1\n",
      "  (0, 4629)\t1\n",
      "  (0, 2905)\t1\n",
      "  (0, 1840)\t1\n",
      "  (0, 2151)\t1\n",
      "  (0, 3678)\t1\n",
      "  (0, 1178)\t1\n",
      "  (0, 8446)\t1\n",
      "  (1, 5693)\t1\n",
      "  (1, 4665)\t1\n",
      "  (1, 4445)\t1\n",
      "  (1, 8568)\t1\n",
      "  (1, 8119)\t1\n",
      "  (1, 5724)\t1\n",
      "  (2, 3424)\t1\n",
      "  (2, 3034)\t2\n",
      "  (2, 435)\t1\n",
      "  :\t:\n",
      "  (5165, 3641)\t1\n",
      "  (5165, 8912)\t1\n",
      "  (5165, 3411)\t1\n",
      "  (5165, 3061)\t1\n",
      "  (5166, 5283)\t1\n",
      "  (5166, 7540)\t1\n",
      "  (5166, 6029)\t1\n",
      "  (5166, 7197)\t1\n",
      "  (5167, 8119)\t1\n",
      "  (5167, 3424)\t1\n",
      "  (5167, 8491)\t1\n",
      "  (5167, 4146)\t1\n",
      "  (5167, 4766)\t1\n",
      "  (5167, 5480)\t1\n",
      "  (5167, 7221)\t1\n",
      "  (5167, 2979)\t1\n",
      "  (5167, 3540)\t1\n",
      "  (5167, 1874)\t1\n",
      "  (5167, 3774)\t1\n",
      "  (5167, 4278)\t1\n",
      "  (5167, 1004)\t1\n",
      "  (5167, 1639)\t1\n",
      "  (5168, 5396)\t1\n",
      "  (5168, 8055)\t1\n",
      "  (5168, 6681)\t1\n"
     ]
    }
   ],
   "source": [
    "print(X_counts)"
   ]
  },
  {
   "cell_type": "markdown",
   "metadata": {},
   "source": [
    "### Seperating Dependent and Independent Variable"
   ]
  },
  {
   "cell_type": "code",
   "execution_count": 17,
   "metadata": {},
   "outputs": [
    {
     "name": "stdout",
     "output_type": "stream",
     "text": [
      "['ham' 'ham' 'spam' ... 'ham' 'ham' 'ham']\n"
     ]
    }
   ],
   "source": [
    "X = X_counts.toarray()\n",
    "y = SMS_DATA.iloc[:,0].values\n",
    "print(y)"
   ]
  },
  {
   "cell_type": "markdown",
   "metadata": {},
   "source": [
    "### Encoding The Dependent Variable"
   ]
  },
  {
   "cell_type": "code",
   "execution_count": 18,
   "metadata": {},
   "outputs": [
    {
     "name": "stdout",
     "output_type": "stream",
     "text": [
      "[0 0 1 ... 0 0 0]\n"
     ]
    }
   ],
   "source": [
    "#To deal with categorical data we had to convert it into numbers\n",
    "from sklearn.preprocessing import LabelEncoder\n",
    "labelencoder_y=LabelEncoder()\n",
    "#converting first column into integer values\n",
    "y=labelencoder_y.fit_transform(y)\n",
    "print(y)\n"
   ]
  },
  {
   "cell_type": "code",
   "execution_count": 19,
   "metadata": {},
   "outputs": [],
   "source": [
    "# Splitting the dataset into the Training set and Test set\n",
    "from sklearn.model_selection import train_test_split\n",
    "X_train, X_test, y_train, y_test = train_test_split(X, y, test_size = 0.20, random_state = 0)"
   ]
  },
  {
   "cell_type": "code",
   "execution_count": 20,
   "metadata": {},
   "outputs": [
    {
     "data": {
      "text/plain": [
       "MultinomialNB(alpha=1.0, class_prior=None, fit_prior=True)"
      ]
     },
     "execution_count": 20,
     "metadata": {},
     "output_type": "execute_result"
    }
   ],
   "source": [
    "# Fitting Naive Bayes to the Training set\n",
    "from sklearn.naive_bayes import MultinomialNB\n",
    "classifier1 = MultinomialNB()\n",
    "classifier1.fit(X_train, y_train)\n"
   ]
  },
  {
   "cell_type": "code",
   "execution_count": 21,
   "metadata": {},
   "outputs": [],
   "source": [
    "# Predicting the Test set results\n",
    "y_pred = classifier1.predict(X_test)"
   ]
  },
  {
   "cell_type": "code",
   "execution_count": 22,
   "metadata": {},
   "outputs": [],
   "source": [
    "# Making the Confusion Matrix\n",
    "from sklearn.metrics import confusion_matrix\n",
    "cm = confusion_matrix(y_test, y_pred)"
   ]
  },
  {
   "cell_type": "markdown",
   "metadata": {},
   "source": [
    "## Accuracy Score"
   ]
  },
  {
   "cell_type": "code",
   "execution_count": 23,
   "metadata": {},
   "outputs": [],
   "source": [
    "from sklearn.metrics import accuracy_score"
   ]
  },
  {
   "cell_type": "code",
   "execution_count": 24,
   "metadata": {},
   "outputs": [],
   "source": [
    "accuracy= accuracy_score(y_test,y_pred)"
   ]
  },
  {
   "cell_type": "code",
   "execution_count": 25,
   "metadata": {},
   "outputs": [
    {
     "data": {
      "text/plain": [
       "0.9661508704061895"
      ]
     },
     "execution_count": 25,
     "metadata": {},
     "output_type": "execute_result"
    }
   ],
   "source": [
    "accuracy"
   ]
  },
  {
   "cell_type": "code",
   "execution_count": 26,
   "metadata": {},
   "outputs": [
    {
     "name": "stdout",
     "output_type": "stream",
     "text": [
      "Accuracy is : 96.61508704061895\n"
     ]
    }
   ],
   "source": [
    "print(\"Accuracy is :\" , accuracy*100)"
   ]
  },
  {
   "cell_type": "code",
   "execution_count": 30,
   "metadata": {},
   "outputs": [],
   "source": [
    "def predict_spam(sample_msg):\n",
    "    sample_msg = \"\".join([word for word in sample_msg if word not in string.punctuation])\n",
    "    sample_msg = re.split('\\W+', sample_msg)\n",
    "    sample_msg = [word for word in sample_msg if word not in stopwords]\n",
    "    final_message = [wn.lemmatize(word) for word in sample_msg]\n",
    "    final_message = ' '.join(final_message)\n",
    "    temp = count_vect.transform([final_message]).toarray()\n",
    "    return classifier1.predict(temp)\n",
    "    "
   ]
  },
  {
   "cell_type": "code",
   "execution_count": 31,
   "metadata": {},
   "outputs": [],
   "source": [
    "RESULT = ['This is a SPAM message !',' Normal Message.']"
   ]
  },
  {
   "cell_type": "code",
   "execution_count": 32,
   "metadata": {},
   "outputs": [
    {
     "name": "stdout",
     "output_type": "stream",
     "text": [
      " Normal Message.\n"
     ]
    }
   ],
   "source": [
    "message = \"Hi! You are pre-qulified for Premium SBI Credit Card. Also get Rs.500 worth Amazon Gift Card*, 10X Rewards Point* & more. Click \"\n",
    "\n",
    "if predict_spam(message):\n",
    "    print(RESULT[0])\n",
    "else:\n",
    "    print(RESULT[1])"
   ]
  },
  {
   "cell_type": "code",
   "execution_count": null,
   "metadata": {},
   "outputs": [],
   "source": []
  },
  {
   "cell_type": "code",
   "execution_count": null,
   "metadata": {},
   "outputs": [],
   "source": []
  }
 ],
 "metadata": {
  "kernelspec": {
   "display_name": "Python 3",
   "language": "python",
   "name": "python3"
  },
  "language_info": {
   "codemirror_mode": {
    "name": "ipython",
    "version": 3
   },
   "file_extension": ".py",
   "mimetype": "text/x-python",
   "name": "python",
   "nbconvert_exporter": "python",
   "pygments_lexer": "ipython3",
   "version": "3.7.6"
  }
 },
 "nbformat": 4,
 "nbformat_minor": 4
}
